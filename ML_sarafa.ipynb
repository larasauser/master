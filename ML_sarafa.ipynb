{
  "nbformat": 4,
  "nbformat_minor": 0,
  "metadata": {
    "colab": {
      "provenance": [],
      "authorship_tag": "ABX9TyONccODsqxDpxg9DzC7ZiL2",
      "include_colab_link": true
    },
    "kernelspec": {
      "name": "python3",
      "display_name": "Python 3"
    },
    "language_info": {
      "name": "python"
    }
  },
  "cells": [
    {
      "cell_type": "markdown",
      "metadata": {
        "id": "view-in-github",
        "colab_type": "text"
      },
      "source": [
        "<a href=\"https://colab.research.google.com/github/larasauser/master/blob/main/ML_sarafa.ipynb\" target=\"_parent\"><img src=\"https://colab.research.google.com/assets/colab-badge.svg\" alt=\"Open In Colab\"/></a>"
      ]
    },
    {
      "cell_type": "markdown",
      "source": [
        "SSGP-Toolbox - Sarafanov et al. (2020)"
      ],
      "metadata": {
        "id": "CX4gFLXE75Yq"
      }
    },
    {
      "cell_type": "markdown",
      "source": [
        "# Configuration"
      ],
      "metadata": {
        "id": "StS3jA2C8vAa"
      }
    },
    {
      "cell_type": "code",
      "source": [
        "ROOT_DRIVE_PATH = '/content/drive/MyDrive/SSGP_L8G'\n",
        "INPUTS_TIF = os.path.join(ROOT_DRIVE_PATH, 'inputs')\n",
        "HISTORY_TIF = os.path.join(ROOT_DRIVE_PATH, 'history')\n",
        "EXTRA_TIF = os.path.join(ROOT_DRIVE_PATH, 'extra')\n",
        "FILLED_DIR = os.path.join(ROOT_DRIVE_PATH, 'filled')"
      ],
      "metadata": {
        "id": "lYqC-RL9748X"
      },
      "execution_count": null,
      "outputs": []
    },
    {
      "cell_type": "code",
      "execution_count": null,
      "metadata": {
        "id": "Rp7GuYSi7386"
      },
      "outputs": [],
      "source": [
        "EXTENT = {'minX': 6.38, 'minY': 46.54, 'maxX': 6.5, 'maxY': 46.63}"
      ]
    },
    {
      "cell_type": "code",
      "source": [
        "KEY_VALUES = {'gap': -100.0, 'skip': -200.0, 'NoData': -32768.0}"
      ],
      "metadata": {
        "id": "9AkFRD8lL1-9"
      },
      "execution_count": null,
      "outputs": []
    },
    {
      "cell_type": "code",
      "source": [
        "RESOLUTION = {'xRes': 30, 'yRes': 30}"
      ],
      "metadata": {
        "id": "dkbROPb_L3e8"
      },
      "execution_count": null,
      "outputs": []
    },
    {
      "cell_type": "code",
      "source": [
        "EXPORT_BIOME = True\n",
        "BIOME_FILENAME = os.path.join(EXTRA_TIF, 'biome.tif')\n",
        "BIOME_GEE_SCALE = 500 # native MODIS resolution; exported will be resampled to 30m in this script\n",
        "RESAMPLE_TO_30M = True"
      ],
      "metadata": {
        "id": "oAJegYFKL40u"
      },
      "execution_count": null,
      "outputs": []
    },
    {
      "cell_type": "code",
      "source": [
        "# SSGP parameters\n",
        "SSGP_METHOD = 'RandomForest' # method name as used in their SimpleSpatialGapfiller\n",
        "PREDICTOR_CONFIG = 'Biome'\n",
        "HYPERPARAMS = 'RandomGridSearch'\n",
        "ADD_OUTPUTS_TO_HISTORY = False\n",
        "PARALLEL = True # run pixel filling in parallel where class supports it"
      ],
      "metadata": {
        "id": "fv7z8bWYL9Ec"
      },
      "execution_count": null,
      "outputs": []
    },
    {
      "cell_type": "markdown",
      "source": [
        "# Environment setup"
      ],
      "metadata": {
        "id": "eY5WHe9IMA-M"
      }
    },
    {
      "cell_type": "code",
      "source": [
        "# Mount Google Drive\n",
        "from google.colab import drive\n",
        "drive.mount('/content/drive')"
      ],
      "metadata": {
        "id": "ILNo2yfAMFml"
      },
      "execution_count": null,
      "outputs": []
    },
    {
      "cell_type": "code",
      "source": [
        "# Install SSGP toolbox from GitHub (if not already installed)\n",
        "!pip install git+https://github.com/Dreamlone/SSGP-toolbox.git"
      ],
      "metadata": {
        "id": "KOhgfa6yMHvI"
      },
      "execution_count": null,
      "outputs": []
    },
    {
      "cell_type": "code",
      "source": [
        "# Install Earth Engine Python API if biome export required\n",
        "if EXPORT_BIOME:\n",
        "!pip install earthengine-api"
      ],
      "metadata": {
        "id": "8Va5fMtaMI-d"
      },
      "execution_count": null,
      "outputs": []
    },
    {
      "cell_type": "code",
      "source": [
        "# Install rasterio, geopandas, pyproj, gdal bindings\n",
        "!apt-get update -qq\n",
        "!apt-get install -y -qq gdal-bin libgdal-dev\n",
        "!pip install rasterio==1.3.8 pyproj==3.5.0"
      ],
      "metadata": {
        "id": "OEEWV6olMLSP"
      },
      "execution_count": null,
      "outputs": []
    },
    {
      "cell_type": "markdown",
      "source": [
        "# Imports"
      ],
      "metadata": {
        "id": "NHRcwz2rMO0M"
      }
    },
    {
      "cell_type": "code",
      "source": [
        "import os, re, json, shutil, time\n",
        "import numpy as np\n",
        "from glob import glob\n",
        "import rasterio\n",
        "from rasterio.warp import calculate_default_transform, reproject, Resampling\n",
        "from rasterio.enums import Resampling as RioResampling\n",
        "from datetime import datetime\n",
        "import pyproj"
      ],
      "metadata": {
        "id": "2__uDTtjMNC3"
      },
      "execution_count": null,
      "outputs": []
    },
    {
      "cell_type": "code",
      "source": [
        "# SSGP toolbox imports\n",
        "try:\n",
        "from SSGPToolbox.preparators.Sentinel3.S3_L2_LST import S3_L2_LST\n",
        "# The toolbox provides a main class for gap filling; we'll use their SimpleSpatialGapfiller implementation\n",
        "from SSGPToolbox.gapfillers.SimpleSpatialGapfiller import SimpleSpatialGapfiller\n",
        "except Exception as e:\n",
        "# If the above structure is different, user installed toolbox but import paths may vary\n",
        "print('SSGP toolbox import failed (this may be OK if toolbox structure differs). Install completed?')\n",
        "print(e)"
      ],
      "metadata": {
        "id": "X-CIRnI9MU3f"
      },
      "execution_count": null,
      "outputs": []
    },
    {
      "cell_type": "markdown",
      "source": [
        "# Utility functions"
      ],
      "metadata": {
        "id": "nPjm8CV1MXmg"
      }
    },
    {
      "cell_type": "code",
      "source": [
        "def ensure_dirs():\n",
        "for p in [INPUTS_TIF, HISTORY_TIF, EXTRA_TIF, FILLED_DIR]:\n",
        "os.makedirs(p, exist_ok=True)"
      ],
      "metadata": {
        "id": "aDnJ9MdZMaiK"
      },
      "execution_count": null,
      "outputs": []
    },
    {
      "cell_type": "code",
      "source": [
        "def parse_date_from_filename(fname):\n",
        "\"\"\"\n",
        "Try to extract datetime from filenames like:\n",
        "NDVI_2023-10-07.tif -> 20231007T000000\n",
        "If the GeoTIFF has metadata with time, prefer that.\n",
        "\"\"\"\n",
        "base = os.path.basename(fname)\n",
        "name, ext = os.path.splitext(base)\n",
        "\n",
        "\n",
        "# Try common patterns: YYYY-MM-DD or YYYYMMDD\n",
        "m = re.search(r'(\\d{4})[-_]?([01]\\d)[-_]?([0-3]\\d)', name)\n",
        "if m:\n",
        "y, mm, dd = m.groups()\n",
        "# Try to read time from tags\n",
        "try:\n",
        "with rasterio.open(fname) as src:\n",
        "tags = src.tags()\n",
        "# Try several common keys\n",
        "for k in ['ACQUISITION_TIME','SCENE_CENTER_TIME','TIFFTAG_DATETIME','ACQUISITION_DATETIME','DATE_TIME']:\n",
        "if tags.get(k):\n",
        "tstr = tags.get(k)\n",
        "# normalize formats like HH:MM:SS or HHMMSS\n",
        "hhmmss = re.search(r'(\\d{2}):(\\d{2}):(\\d{2})', tstr)\n",
        "if hhmmss:\n",
        "hh, mi, ss = hhmmss.groups()\n",
        "return f\"{y}{mm}{dd}T{hh}{mi}{ss}\"\n",
        "# fallback to midnight\n",
        "return f\"{y}{mm}{dd}T000000\"\n",
        "except Exception:\n",
        "return f\"{y}{mm}{dd}T000000\"\n",
        "else:\n",
        "# fallback to file modified time\n",
        "ts = os.path.getmtime(fname)\n",
        "dt = datetime.utcfromtimestamp(ts)\n",
        "return dt.strftime('%Y%m%dT%H%M%S')"
      ],
      "metadata": {
        "id": "f5SgaoAYMcTG"
      },
      "execution_count": null,
      "outputs": []
    },
    {
      "cell_type": "code",
      "source": [
        "def rename_files_to_ssgp_format(folder):\n",
        "\"\"\"Rename NDVI_YYYY-MM-DD.tif -> L8_NDVI_YYYYMMDDTHHMMSS.tif (in place).\n",
        "If time not available, uses 000000 for HHMMSS.\n",
        "\"\"\"\n",
        "renamed = []\n",
        "for p in sorted(glob(os.path.join(folder, '*.tif'))):\n",
        "new_dt = parse_date_from_filename(p)\n",
        "new_name = f\"L8_NDVI_{new_dt}.tif\"\n",
        "new_path = os.path.join(folder, new_name)\n",
        "if os.path.basename(p) != os.path.basename(new_path):\n",
        "os.rename(p, new_path)\n",
        "renamed.append(new_path)\n",
        "return renamed"
      ],
      "metadata": {
        "id": "nHegw7n8Me5H"
      },
      "execution_count": null,
      "outputs": []
    },
    {
      "cell_type": "code",
      "source": [
        "def get_utm_code_and_extent(extent):\n",
        "minX, minY, maxX, maxY = extent['minX'], extent['minY'], extent['maxX'], extent['maxY']\n",
        "y_centroid = (minY + maxY) / 2.0\n",
        "base_code = 32700 if y_centroid < 0 else 32600\n",
        "x_centroid = (minX + maxX) / 2.0\n",
        "zone = int(((x_centroid + 180) / 6.0) % 60) + 1\n",
        "utm_code = base_code + zone\n",
        "wgs = pyproj.Proj('epsg:4326')\n",
        "utm = pyproj.Proj(f'epsg:{utm_code}')\n",
        "min_corner = pyproj.transform(wgs, utm, minX, minY)\n",
        "max_corner = pyproj.transform(wgs, utm, maxX, maxY)\n",
        "utm_extent = {'minX': min_corner[0], 'minY': min_corner[1], 'maxX': max_corner[0], 'maxY': max_corner[1]}\n",
        "return utm_code, utm_extent"
      ],
      "metadata": {
        "id": "mQhswPTjMg8O"
      },
      "execution_count": null,
      "outputs": []
    },
    {
      "cell_type": "code",
      "source": [
        "def geotiff_to_npy_and_metadata(tif_path, out_folder, extent, resolution, key_values):\n",
        "if src.crs != dst_crs:\n",
        "transform, width, height = calculate_default_transform(src.crs, dst_crs, src.width, src.height, *src.bounds)\n",
        "kwargs = src.meta.copy()\n",
        "kwargs.update({'crs': dst_crs, 'transform': transform, 'width': width, 'height': height})\n",
        "# reproject into an in-memory raster\n",
        "dest = np.empty((height, width), dtype=np.float32)\n",
        "reproject(\n",
        "source=arr,\n",
        "destination=dest,\n",
        "src_transform=src.transform,\n",
        "src_crs=src.crs,\n",
        "dst_transform=transform,\n",
        "dst_crs=dst_crs,\n",
        "resampling=Resampling.bilinear\n",
        ")\n",
        "arr = dest\n",
        "src_transform = transform\n",
        "src_crs = dst_crs\n",
        "\n",
        "\n",
        "# Compute UTM projection and warp to UTM and desired resolution and extent\n",
        "utm_code, utm_extent = get_utm_code_and_extent(extent)\n",
        "dst_crs = f'EPSG:{utm_code}'\n",
        "\n",
        "\n",
        "# Build target transform and shape\n",
        "xres, yres = resolution['xRes'], resolution['yRes']\n",
        "minx, miny, maxx, maxy = utm_extent['minX'], utm_extent['minY'], utm_extent['maxX'], utm_extent['maxY']\n",
        "width = int(np.ceil((maxx - minx) / xres))\n",
        "height = int(np.ceil((maxy - miny) / yres))\n",
        "dst_transform = rasterio.transform.from_origin(minx, maxy, xres, yres)\n",
        "\n",
        "\n",
        "# Create destination array and reproject\n",
        "dest = np.full((height, width), key_values.get('NoData'), dtype=np.float32)\n",
        "reproject(\n",
        "source=arr,\n",
        "destination=dest,\n",
        "src_transform=src_transform,\n",
        "src_crs=src_crs,\n",
        "dst_transform=dst_transform,\n",
        "dst_crs=dst_crs,\n",
        "resampling=Resampling.bilinear\n",
        ")\n",
        "\n",
        "\n",
        "# Apply key value mapping if needed (here we keep as is; user images have no missing values)\n",
        "# Replace NaN with gap if present\n",
        "dest[np.isnan(dest)] = key_values.get('gap')\n",
        "\n",
        "\n",
        "# Save npy\n",
        "basename = os.path.splitext(os.path.basename(tif_path))[0]\n",
        "npy_path = os.path.join(out_folder, f\"{basename}.npy\")\n",
        "np.save(npy_path, dest.astype(np.float32))\n",
        "\n",
        "\n",
        "# Save metadata similar to SSGP\n",
        "metadata = {\n",
        "'file_name': os.path.basename(tif_path),\n",
        "'satellite': 'L8',\n",
        "'datetime': basename.split('_')[-1],\n",
        "'extent': extent,\n",
        "'utm_code': utm_code,\n",
        "'utm_extent': utm_extent,\n",
        "'resolution': resolution,\n",
        "'key_values': key_values\n",
        "}\n",
        "meta_path = os.path.join(out_folder, f\"{basename}_metadata.json\")\n",
        "with open(meta_path, 'w') as f:\n",
        "json.dump(metadata, f, indent=4)\n",
        "return npy_path, meta_path"
      ],
      "metadata": {
        "id": "tkaP0mBuMjKz"
      },
      "execution_count": null,
      "outputs": []
    },
    {
      "cell_type": "markdown",
      "source": [
        "# Biome export"
      ],
      "metadata": {
        "id": "CS8tcXmNMoQ4"
      }
    },
    {
      "cell_type": "code",
      "source": [
        "if EXPORT_BIOME:\n",
        "import ee\n",
        "try:\n",
        "ee.Initialize()\n",
        "except Exception:\n",
        "ee.Authenticate()\n",
        "ee.Initialize()\n",
        "\n",
        "\n",
        "# Define region geometry from EXTENT\n",
        "region = ee.Geometry.Rectangle([EXTENT['minX'], EXTENT['minY'], EXTENT['maxX'], EXTENT['maxY']])\n",
        "\n",
        "\n",
        "# MODIS landcover (MCD12Q1). LC_Type1 uses IGBP classification\n",
        "modis = ee.ImageCollection('MODIS/006/MCD12Q1').select('LC_Type1')\n",
        "# Use the most recent year available or compute mode across years\n",
        "year = ee.Date(datetime.utcnow()).get('year')\n",
        "year_image = ee.Image(modis.filter(ee.Filter.calendarRange(2019, 2023, 'year')).first())\n",
        "if year_image is None:\n",
        "year_image = ee.Image(modis.first())\n",
        "\n",
        "\n",
        "# Clip to region and resample\n",
        "biome_img = year_image.clip(region).resample('nearest')\n",
        "\n",
        "\n",
        "# Export to Drive (resampled at MODIS native 500m then we will resample to 30m locally)\n",
        "task = ee.batch.Export.image.toDrive(\n",
        "image=biome_img,\n",
        "description='export_biome_modis',\n",
        "folder='SSGP_L8G_gee_exports',\n",
        "fileNamePrefix='biome_modis',\n",
        "region=region.bounds().getInfo()['coordinates'],\n",
        "scale=BIOME_GEE_SCALE,\n",
        "crs='EPSG:4326',\n",
        "maxPixels=1e13\n",
        ")\n",
        "task.start()\n",
        "print('Biome export started in Earth Engine. Monitor Tasks in your GEE account. Waiting for completion...')\n",
        "# Simple waiting loop (polling). In Colab you may prefer to check the Tasks tab manually.\n",
        "while task.status()['state'] in ['READY','RUNNING']:\n",
        "print('Task state:', task.status())\n",
        "time.sleep(10)\n",
        "print('Task finished with state:', task.status())\n",
        "\n",
        "\n",
        "# The exported file will be in your Google Drive in folder 'SSGP_L8G_gee_exports'.\n",
        "# Find it and move/rename to EXTRA_TIF/biome.tif, then resample to 30m below.\n",
        "\n",
        "\n",
        "# Attempt auto-detection of Drive export artifact\n",
        "drive_export_folder = '/content/drive/MyDrive/SSGP_L8G_gee_exports'\n",
        "exported_candidates = glob(os.path.join(drive_export_folder, 'biome_modis*.tif'))\n",
        "if len(exported_candidates) == 0:\n",
        "print('No exported biome found automatically. Please move the exported TIFF from your Drive\\'s SSGP_L8G_gee_exports to the extra folder and name it biome_modis.tif')\n",
        "else:\n",
        "src_biome = exported_candidates[0]\n",
        "dst_biome = BIOME_FILENAME.replace('.tif', '_modis500m.tif')\n",
        "shutil.copy(src_biome, dst_biome)\n",
        "print('Copied biome export to', dst_biome)\n",
        "\n",
        "\n",
        "# If resampling to 30m is requested, do it now (nearest neighbor)\n",
        "if RESAMPLE_TO_30M and len(exported_candidates) > 0:\n",
        "src = dst_biome\n",
        "with rasterio.open(src) as srcf:\n",
        "data = srcf.read(1)\n",
        "src_transform = srcf.transform\n",
        "src_crs = srcf.crs\n",
        "\n",
        "\n",
        "# Determine target UTM extent and transform (we'll use same EXTENT and 30m resolution)\n",
        "utm_code, utm_extent = get_utm_code_and_extent(EXTENT)\n",
        "xres, yres = RESOLUTION['xRes'], RESOLUTION['yRes']\n",
        "minx, miny, maxx, maxy = utm_extent['minX'], utm_extent['minY'], utm_extent['maxX'], utm_extent['maxY']\n",
        "width = int(np.ceil((maxx - minx) / xres))\n",
        "height = int(np.ceil((maxy - miny) / yres))\n",
        "dst_transform = rasterio.transform.from_origin(minx, maxy, xres, yres)\n",
        "\n",
        "\n",
        "dst_profile = {\n",
        "'driver': 'GTiff',\n",
        "'height': height,\n",
        "'width': width,\n",
        "'count': 1,\n",
        "'dtype': data.dtype,\n",
        "'crs': f'EPSG:{utm_code}',\n",
        "'transform': dst_transform\n",
        "}\n",
        "os.makedirs(EXTRA_TIF, exist_ok=True)\n",
        "biome_out = BIOME_FILENAME\n",
        "with rasterio.open(biome_out, 'w', **dst_profile) as dst:\n",
        "reproject(\n",
        "source=data,\n",
        "destination=rasterio.band(dst, 1),\n",
        "src_transform=src_transform,\n",
        "src_crs=src_crs,\n",
        "dst_transform=dst_transform,\n",
        "dst_crs=f'EPSG:{utm_code}',\n",
        "resampling=RioResampling.nearest\n",
        ")\n",
        "print('Biome resampled and saved to', biome_out)"
      ],
      "metadata": {
        "id": "KL74g23GMrkm"
      },
      "execution_count": null,
      "outputs": []
    },
    {
      "cell_type": "markdown",
      "source": [
        "# Prepare data (rename + npy)"
      ],
      "metadata": {
        "id": "3YkOPG9BNAwD"
      }
    },
    {
      "cell_type": "code",
      "source": [
        "ensure_dirs()\n",
        "print('Renaming input and history TIFFs to SSGP filename format...')\n",
        "rename_files_to_ssgp_format(INPUTS_TIF)\n",
        "rename_files_to_ssgp_format(HISTORY_TIF)"
      ],
      "metadata": {
        "id": "pyfhM27xNFRi"
      },
      "execution_count": null,
      "outputs": []
    },
    {
      "cell_type": "code",
      "source": [
        "# Convert all TIFFs in history and inputs to npy\n",
        "print('Converting TIFFs to NPY+metadata...')\n",
        "for folder in [HISTORY_TIF, INPUTS_TIF]:\n",
        "for tif in sorted(glob(os.path.join(folder, '*.tif'))):\n",
        "# Decide output subfolder: history or inputs inside ROOT (SSGP expects History/Inputs/Extra)\n",
        "if os.path.commonpath([tif, HISTORY_TIF]) == HISTORY_TIF:\n",
        "out_sub = os.path.join(ROOT_DRIVE_PATH, 'History')\n",
        "else:\n",
        "out_sub = os.path.join(ROOT_DRIVE_PATH, 'Inputs')\n",
        "os.makedirs(out_sub, exist_ok=True)\n",
        "npy_path, meta_path = geotiff_to_npy_and_metadata(tif, out_sub, EXTENT, RESOLUTION, KEY_VALUES)\n",
        "print('Saved', npy_path, meta_path)"
      ],
      "metadata": {
        "id": "CF1orTg4NIBY"
      },
      "execution_count": null,
      "outputs": []
    },
    {
      "cell_type": "code",
      "source": [
        "# Convert biome to Extra (if it exists)\n",
        "if os.path.exists(BIOME_FILENAME):\n",
        "out_extra = os.path.join(ROOT_DRIVE_PATH, 'Extra')\n",
        "os.makedirs(out_extra, exist_ok=True)\n",
        "biome_npy, _ = geotiff_to_npy_and_metadata(BIOME_FILENAME, out_extra, EXTENT, RESOLUTION, KEY_VALUES)\n",
        "# Rename Extra npy to expected name Extra.npy\n",
        "biome_base = os.path.splitext(os.path.basename(biome_npy))[0]\n",
        "extra_dst = os.path.join(out_extra, 'Extra.npy')\n",
        "shutil.copy(biome_npy, extra_dst)\n",
        "print('Biome converted and saved as', extra_dst)\n",
        "else:\n",
        "print('No biome file found in extra; SSGP Biome mode will fail unless Extra/Extra.npy exists.')"
      ],
      "metadata": {
        "id": "G2XmQGQqNLz8"
      },
      "execution_count": null,
      "outputs": []
    },
    {
      "cell_type": "markdown",
      "source": [
        "# Gapfilling"
      ],
      "metadata": {
        "id": "Wh2xKe-0NO7v"
      }
    },
    {
      "cell_type": "code",
      "source": [
        "# The SSGP toolbox expects a project directory with subfolders 'History', 'Inputs', 'Extra'.\n",
        "PROJECT_DIR = ROOT_DRIVE_PATH # it already contains History, Inputs, Extra subfolders now"
      ],
      "metadata": {
        "id": "AWi84FFQNUdi"
      },
      "execution_count": null,
      "outputs": []
    },
    {
      "cell_type": "code",
      "source": [
        "# Instantiate the gapfiller\n",
        "try:\n",
        "gapfiller = SimpleSpatialGapfiller(PROJECT_DIR, parallel=PARALLEL)\n",
        "except Exception as e:\n",
        "print('Failed to import SimpleSpatialGapfiller from installed toolbox. Ensure the toolbox is installed and import path matches.')\n",
        "raise"
      ],
      "metadata": {
        "id": "Zb48jVSmNYd6"
      },
      "execution_count": null,
      "outputs": []
    },
    {
      "cell_type": "code",
      "source": [
        "# Run fill_gaps with specified options\n",
        "gapfiller.fill_gaps(method=SSGP_METHOD,\n",
        "predictor_configuration=PREDICTOR_CONFIG,\n",
        "hyperparameters=HYPERPARAMS,\n",
        "params=None,\n",
        "add_outputs=ADD_OUTPUTS_TO_HISTORY,\n",
        "key_values=KEY_VALUES)"
      ],
      "metadata": {
        "id": "lhz9_15yNaVn"
      },
      "execution_count": null,
      "outputs": []
    },
    {
      "cell_type": "code",
      "source": [
        "# Outputs saved to PROJECT_DIR/Outputs by the class. Move them to FILLED_DIR and also export as GeoTIFF using metadata\n",
        "outputs_dir = os.path.join(PROJECT_DIR, 'Outputs')\n",
        "if not os.path.exists(outputs_dir):\n",
        "print('No Outputs folder found. Did the gapfiller run successfully?')\n",
        "else:\n",
        "os.makedirs(FILLED_DIR, exist_ok=True)\n",
        "# For each .npy in Outputs, write a GeoTIFF using the corresponding metadata json produced earlier\n",
        "for f in sorted(glob(os.path.join(outputs_dir, '*.npy'))):\n",
        "base = os.path.splitext(os.path.basename(f))[0]\n",
        "out_npy = os.path.join(FILLED_DIR, os.path.basename(f))\n",
        "shutil.copy(f, out_npy)\n",
        "# Try to find metadata file in History/Inputs (we saved metadata alongside input npys earlier)\n",
        "meta_candidate = os.path.join(PROJECT_DIR, 'History', base + '_metadata.json')\n",
        "if not os.path.exists(meta_candidate):\n",
        "meta_candidate = os.path.join(PROJECT_DIR, 'Inputs', base + '_metadata.json')\n",
        "if os.path.exists(meta_candidate):\n",
        "with open(meta_candidate, 'r') as mf:\n",
        "meta = json.load(mf)\n",
        "# reconstruct geotiff from meta and npy\n",
        "arr = np.load(f)\n",
        "utm_code = meta.get('utm_code')\n",
        "utm_ext = meta.get('utm_extent')\n",
        "res = meta.get('resolution')\n",
        "xres = res['xRes']; yres = res['yRes']\n",
        "minx = utm_ext['minX']; maxy = utm_ext['maxY']\n",
        "width = arr.shape[1]; height = arr.shape[0]\n",
        "transform = rasterio.transform.from_origin(minx, maxy, xres, yres)\n",
        "profile = {\n",
        "'driver': 'GTiff',\n",
        "'height': height,\n",
        "'width': width,\n",
        "'count': 1,\n",
        "'dtype': 'float32',\n",
        "'crs': f'EPSG:{utm_code}',\n",
        "'transform': transform\n",
        "}\n",
        "out_tif = os.path.join(FILLED_DIR, base + '.tif')\n",
        "with rasterio.open(out_tif, 'w', **profile) as dst:\n",
        "dst.write(arr.astype(np.float32), 1)\n",
        "print('Saved filled GeoTIFF:', out_tif)\n",
        "else:\n",
        "print('Metadata not found for', base, '— saved only .npy')\n",
        "\n",
        "\n",
        "print('ALL DONE. Filled files are in', FILLED_DIR)"
      ],
      "metadata": {
        "id": "Lq58DkuBNdoQ"
      },
      "execution_count": null,
      "outputs": []
    }
  ]
}