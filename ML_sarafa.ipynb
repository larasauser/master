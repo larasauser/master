{
  "nbformat": 4,
  "nbformat_minor": 0,
  "metadata": {
    "colab": {
      "provenance": [],
      "authorship_tag": "ABX9TyO3GQL4pg9eussgmVyFi1NG",
      "include_colab_link": true
    },
    "kernelspec": {
      "name": "python3",
      "display_name": "Python 3"
    },
    "language_info": {
      "name": "python"
    }
  },
  "cells": [
    {
      "cell_type": "markdown",
      "metadata": {
        "id": "view-in-github",
        "colab_type": "text"
      },
      "source": [
        "<a href=\"https://colab.research.google.com/github/larasauser/master/blob/main/ML_sarafa.ipynb\" target=\"_parent\"><img src=\"https://colab.research.google.com/assets/colab-badge.svg\" alt=\"Open In Colab\"/></a>"
      ]
    },
    {
      "cell_type": "markdown",
      "source": [
        "SSGP-Toolbox - Sarafanov et al. (2020)"
      ],
      "metadata": {
        "id": "CX4gFLXE75Yq"
      }
    },
    {
      "cell_type": "markdown",
      "source": [],
      "metadata": {
        "id": "GurfmSIuOaCN"
      }
    },
    {
      "cell_type": "code",
      "source": [
        "!pip install rasterio"
      ],
      "metadata": {
        "colab": {
          "base_uri": "https://localhost:8080/"
        },
        "id": "CQ9AD1s1OwEG",
        "outputId": "7bb0ec01-6b73-401c-8e89-b72e911ae153"
      },
      "execution_count": 43,
      "outputs": [
        {
          "output_type": "stream",
          "name": "stdout",
          "text": [
            "Requirement already satisfied: rasterio in /usr/local/lib/python3.12/dist-packages (1.4.3)\n",
            "Requirement already satisfied: affine in /usr/local/lib/python3.12/dist-packages (from rasterio) (2.4.0)\n",
            "Requirement already satisfied: attrs in /usr/local/lib/python3.12/dist-packages (from rasterio) (25.3.0)\n",
            "Requirement already satisfied: certifi in /usr/local/lib/python3.12/dist-packages (from rasterio) (2025.8.3)\n",
            "Requirement already satisfied: click>=4.0 in /usr/local/lib/python3.12/dist-packages (from rasterio) (8.3.0)\n",
            "Requirement already satisfied: cligj>=0.5 in /usr/local/lib/python3.12/dist-packages (from rasterio) (0.7.2)\n",
            "Requirement already satisfied: numpy>=1.24 in /usr/local/lib/python3.12/dist-packages (from rasterio) (2.0.2)\n",
            "Requirement already satisfied: click-plugins in /usr/local/lib/python3.12/dist-packages (from rasterio) (1.1.1.2)\n",
            "Requirement already satisfied: pyparsing in /usr/local/lib/python3.12/dist-packages (from rasterio) (3.2.5)\n"
          ]
        }
      ]
    },
    {
      "cell_type": "code",
      "source": [
        "import os, re, json, shutil, time\n",
        "import numpy as np\n",
        "from glob import glob\n",
        "import rasterio\n",
        "from rasterio.warp import calculate_default_transform, reproject, Resampling\n",
        "from rasterio.enums import Resampling as RioResampling\n",
        "from datetime import datetime\n",
        "import pyproj"
      ],
      "metadata": {
        "id": "5zgcqB68OaT5"
      },
      "execution_count": 44,
      "outputs": []
    },
    {
      "cell_type": "code",
      "source": [
        "!apt install -y libgdal-dev\n",
        "!pip install gdal==3.8.4\n",
        "import sys\n",
        "from osgeo import gdal, osr\n",
        "sys.modules['gdal'] = gdal\n",
        "sys.modules['osr'] = osr"
      ],
      "metadata": {
        "colab": {
          "base_uri": "https://localhost:8080/"
        },
        "id": "IqPTvu7eQlRC",
        "outputId": "ec791f19-9177-42ab-c50f-075690787d4d"
      },
      "execution_count": 45,
      "outputs": [
        {
          "output_type": "stream",
          "name": "stdout",
          "text": [
            "Reading package lists... Done\n",
            "Building dependency tree... Done\n",
            "Reading state information... Done\n",
            "libgdal-dev is already the newest version (3.8.4+dfsg-1~jammy0).\n",
            "0 upgraded, 0 newly installed, 0 to remove and 42 not upgraded.\n",
            "Requirement already satisfied: gdal==3.8.4 in /usr/local/lib/python3.12/dist-packages (3.8.4)\n"
          ]
        }
      ]
    },
    {
      "cell_type": "code",
      "source": [
        "!git clone https://github.com/Dreamlone/SSGP-toolbox.git\n",
        "%cd SSGP-toolbox"
      ],
      "metadata": {
        "colab": {
          "base_uri": "https://localhost:8080/"
        },
        "id": "lEhGuWjNPgG3",
        "outputId": "a3c81bcd-c909-40d1-9804-176df80ddb52"
      },
      "execution_count": 46,
      "outputs": [
        {
          "output_type": "stream",
          "name": "stdout",
          "text": [
            "Cloning into 'SSGP-toolbox'...\n",
            "remote: Enumerating objects: 1726, done.\u001b[K\n",
            "remote: Counting objects: 100% (67/67), done.\u001b[K\n",
            "remote: Compressing objects: 100% (41/41), done.\u001b[K\n",
            "remote: Total 1726 (delta 24), reused 59 (delta 18), pack-reused 1659 (from 1)\u001b[K\n",
            "Receiving objects: 100% (1726/1726), 301.37 MiB | 28.70 MiB/s, done.\n",
            "Resolving deltas: 100% (727/727), done.\n",
            "/content/SSGP-toolbox/SSGP-toolbox\n"
          ]
        }
      ]
    },
    {
      "cell_type": "code",
      "source": [
        "!sed -i \"s/scikit-learn==0.21.3/scikit-learn>=1.0/g\" setup.py\n",
        "\n"
      ],
      "metadata": {
        "id": "hNLXg8J-Pr-o"
      },
      "execution_count": 48,
      "outputs": []
    },
    {
      "cell_type": "code",
      "source": [
        "!pip install ."
      ],
      "metadata": {
        "colab": {
          "base_uri": "https://localhost:8080/",
          "height": 650
        },
        "id": "gj8w4Z57PvIh",
        "outputId": "de7ba216-3830-4d2c-a490-566940bb95f4"
      },
      "execution_count": 49,
      "outputs": [
        {
          "output_type": "stream",
          "name": "stdout",
          "text": [
            "Processing /content/SSGP-toolbox/SSGP-toolbox\n",
            "  Preparing metadata (setup.py) ... \u001b[?25l\u001b[?25hdone\n",
            "Requirement already satisfied: gdal>=2.4 in /usr/local/lib/python3.12/dist-packages (from SSGP-toolbox==1.0) (3.8.4)\n",
            "Requirement already satisfied: numpy in /usr/local/lib/python3.12/dist-packages (from SSGP-toolbox==1.0) (2.0.2)\n",
            "Requirement already satisfied: scikit-learn>=1.0 in /usr/local/lib/python3.12/dist-packages (from SSGP-toolbox==1.0) (1.7.2)\n",
            "Requirement already satisfied: pandas in /usr/local/lib/python3.12/dist-packages (from SSGP-toolbox==1.0) (2.2.2)\n",
            "Requirement already satisfied: scipy in /usr/local/lib/python3.12/dist-packages (from SSGP-toolbox==1.0) (1.16.2)\n",
            "Requirement already satisfied: netCDF4 in /usr/local/lib/python3.12/dist-packages (from SSGP-toolbox==1.0) (1.7.2)\n",
            "Requirement already satisfied: pyproj in /usr/local/lib/python3.12/dist-packages (from SSGP-toolbox==1.0) (3.7.2)\n",
            "Requirement already satisfied: joblib>=1.2.0 in /usr/local/lib/python3.12/dist-packages (from scikit-learn>=1.0->SSGP-toolbox==1.0) (1.5.2)\n",
            "Requirement already satisfied: threadpoolctl>=3.1.0 in /usr/local/lib/python3.12/dist-packages (from scikit-learn>=1.0->SSGP-toolbox==1.0) (3.6.0)\n",
            "Requirement already satisfied: cftime in /usr/local/lib/python3.12/dist-packages (from netCDF4->SSGP-toolbox==1.0) (1.6.4.post1)\n",
            "Requirement already satisfied: certifi in /usr/local/lib/python3.12/dist-packages (from netCDF4->SSGP-toolbox==1.0) (2025.8.3)\n",
            "Requirement already satisfied: python-dateutil>=2.8.2 in /usr/local/lib/python3.12/dist-packages (from pandas->SSGP-toolbox==1.0) (2.9.0.post0)\n",
            "Requirement already satisfied: pytz>=2020.1 in /usr/local/lib/python3.12/dist-packages (from pandas->SSGP-toolbox==1.0) (2025.2)\n",
            "Requirement already satisfied: tzdata>=2022.7 in /usr/local/lib/python3.12/dist-packages (from pandas->SSGP-toolbox==1.0) (2025.2)\n",
            "Requirement already satisfied: six>=1.5 in /usr/local/lib/python3.12/dist-packages (from python-dateutil>=2.8.2->pandas->SSGP-toolbox==1.0) (1.17.0)\n",
            "Building wheels for collected packages: SSGP-toolbox\n",
            "  Building wheel for SSGP-toolbox (setup.py) ... \u001b[?25l\u001b[?25hdone\n",
            "  Created wheel for SSGP-toolbox: filename=SSGP_toolbox-1.0-py3-none-any.whl size=41157 sha256=450766c42881a8ab804b64b9f5b3fd367b3aad065ffabf35e7c9cd162871abdc\n",
            "  Stored in directory: /root/.cache/pip/wheels/80/99/34/c3cf4e985bd68afab64da81cee143c6c4c9c7af67f31f68d8b\n",
            "Successfully built SSGP-toolbox\n",
            "Installing collected packages: SSGP-toolbox\n",
            "  Attempting uninstall: SSGP-toolbox\n",
            "    Found existing installation: SSGP-toolbox 1.0\n",
            "    Uninstalling SSGP-toolbox-1.0:\n",
            "      Successfully uninstalled SSGP-toolbox-1.0\n",
            "Successfully installed SSGP-toolbox-1.0\n"
          ]
        },
        {
          "output_type": "display_data",
          "data": {
            "application/vnd.colab-display-data+json": {
              "pip_warning": {
                "packages": [
                  "SSGPToolbox"
                ]
              },
              "id": "ddd9a4abda6440a8986f3526d3396bda"
            }
          },
          "metadata": {}
        }
      ]
    },
    {
      "cell_type": "code",
      "source": [
        "# SSGP toolbox imports\n",
        "try:\n",
        "  from SSGPToolbox.preparators.Sentinel3.S3_L2_LST import S3_L2_LST\n",
        "# The toolbox provides a main class for gap filling; we'll use their SimpleSpatialGapfiller implementation\n",
        "  from SSGPToolbox.gapfiller import SimpleSpatialGapfiller\n",
        "except Exception as e:\n",
        "# If the above structure is different, user installed toolbox but import paths may vary\n",
        "  print('SSGP toolbox import failed (this may be OK if toolbox structure differs). Install completed?')\n",
        "  print(e)"
      ],
      "metadata": {
        "id": "lgUi_rLpOcGR"
      },
      "execution_count": 50,
      "outputs": []
    },
    {
      "cell_type": "markdown",
      "source": [
        "# Configuration"
      ],
      "metadata": {
        "id": "StS3jA2C8vAa"
      }
    },
    {
      "cell_type": "code",
      "source": [
        "# Mount Google Drive\n",
        "from google.colab import drive\n",
        "drive.mount('/content/drive')"
      ],
      "metadata": {
        "id": "ILNo2yfAMFml",
        "colab": {
          "base_uri": "https://localhost:8080/"
        },
        "outputId": "5c71cd7b-4038-439e-ec5f-68a6214acd53"
      },
      "execution_count": 51,
      "outputs": [
        {
          "output_type": "stream",
          "name": "stdout",
          "text": [
            "Drive already mounted at /content/drive; to attempt to forcibly remount, call drive.mount(\"/content/drive\", force_remount=True).\n"
          ]
        }
      ]
    },
    {
      "cell_type": "code",
      "source": [
        "ROOT_DRIVE_PATH = '/content/drive/MyDrive/SSGP_L8G'\n",
        "INPUTS_TIF = os.path.join(ROOT_DRIVE_PATH, 'inputs')\n",
        "HISTORY_TIF = os.path.join(ROOT_DRIVE_PATH, 'history')\n",
        "EXTRA_TIF = os.path.join(ROOT_DRIVE_PATH, 'extra')\n",
        "FILLED_DIR = os.path.join(ROOT_DRIVE_PATH, 'filled')"
      ],
      "metadata": {
        "id": "lYqC-RL9748X"
      },
      "execution_count": 52,
      "outputs": []
    },
    {
      "cell_type": "code",
      "execution_count": 53,
      "metadata": {
        "id": "Rp7GuYSi7386"
      },
      "outputs": [],
      "source": [
        "EXTENT = {'minX': 6.38, 'minY': 46.54, 'maxX': 6.5, 'maxY': 46.63}"
      ]
    },
    {
      "cell_type": "code",
      "source": [
        "KEY_VALUES = {'gap': -100.0, 'skip': -200.0, 'NoData': -32768.0}"
      ],
      "metadata": {
        "id": "9AkFRD8lL1-9"
      },
      "execution_count": 54,
      "outputs": []
    },
    {
      "cell_type": "code",
      "source": [
        "RESOLUTION = {'xRes': 30, 'yRes': 30}"
      ],
      "metadata": {
        "id": "dkbROPb_L3e8"
      },
      "execution_count": 55,
      "outputs": []
    },
    {
      "cell_type": "code",
      "source": [
        "EXPORT_BIOME = True\n",
        "BIOME_FILENAME = os.path.join(EXTRA_TIF, 'biome.tif')\n",
        "BIOME_GEE_SCALE = 500 # native MODIS resolution; exported will be resampled to 30m in this script\n",
        "RESAMPLE_TO_30M = True"
      ],
      "metadata": {
        "id": "oAJegYFKL40u"
      },
      "execution_count": 56,
      "outputs": []
    },
    {
      "cell_type": "code",
      "source": [
        "# SSGP parameters\n",
        "SSGP_METHOD = 'RandomForest' # method name as used in their SimpleSpatialGapfiller\n",
        "PREDICTOR_CONFIG = 'Biome'\n",
        "HYPERPARAMS = 'RandomGridSearch'\n",
        "ADD_OUTPUTS_TO_HISTORY = False\n",
        "PARALLEL = True # run pixel filling in parallel where class supports it"
      ],
      "metadata": {
        "id": "fv7z8bWYL9Ec"
      },
      "execution_count": 57,
      "outputs": []
    },
    {
      "cell_type": "markdown",
      "source": [
        "# Environment setup"
      ],
      "metadata": {
        "id": "eY5WHe9IMA-M"
      }
    },
    {
      "cell_type": "code",
      "source": [
        "# Install SSGP toolbox from GitHub (if not already installed)\n",
        "!pip install git+https://github.com/Dreamlone/SSGP-toolbox.git"
      ],
      "metadata": {
        "id": "KOhgfa6yMHvI"
      },
      "execution_count": null,
      "outputs": []
    },
    {
      "cell_type": "code",
      "source": [
        "# Install Earth Engine Python API if biome export required\n",
        "if EXPORT_BIOME:\n",
        "  !pip install earthengine-api"
      ],
      "metadata": {
        "id": "8Va5fMtaMI-d",
        "colab": {
          "base_uri": "https://localhost:8080/"
        },
        "outputId": "d6b50d59-02c4-4bd1-dce6-483d8fe07b6b"
      },
      "execution_count": null,
      "outputs": [
        {
          "output_type": "stream",
          "name": "stdout",
          "text": [
            "Requirement already satisfied: earthengine-api in /usr/local/lib/python3.12/dist-packages (1.5.24)\n",
            "Requirement already satisfied: google-cloud-storage in /usr/local/lib/python3.12/dist-packages (from earthengine-api) (2.19.0)\n",
            "Requirement already satisfied: google-api-python-client>=1.12.1 in /usr/local/lib/python3.12/dist-packages (from earthengine-api) (2.183.0)\n",
            "Requirement already satisfied: google-auth>=1.4.1 in /usr/local/lib/python3.12/dist-packages (from earthengine-api) (2.38.0)\n",
            "Requirement already satisfied: google-auth-httplib2>=0.0.3 in /usr/local/lib/python3.12/dist-packages (from earthengine-api) (0.2.0)\n",
            "Requirement already satisfied: httplib2<1dev,>=0.9.2 in /usr/local/lib/python3.12/dist-packages (from earthengine-api) (0.31.0)\n",
            "Requirement already satisfied: requests in /usr/local/lib/python3.12/dist-packages (from earthengine-api) (2.32.4)\n",
            "Requirement already satisfied: google-api-core!=2.0.*,!=2.1.*,!=2.2.*,!=2.3.0,<3.0.0,>=1.31.5 in /usr/local/lib/python3.12/dist-packages (from google-api-python-client>=1.12.1->earthengine-api) (2.25.1)\n",
            "Requirement already satisfied: uritemplate<5,>=3.0.1 in /usr/local/lib/python3.12/dist-packages (from google-api-python-client>=1.12.1->earthengine-api) (4.2.0)\n",
            "Requirement already satisfied: cachetools<6.0,>=2.0.0 in /usr/local/lib/python3.12/dist-packages (from google-auth>=1.4.1->earthengine-api) (5.5.2)\n",
            "Requirement already satisfied: pyasn1-modules>=0.2.1 in /usr/local/lib/python3.12/dist-packages (from google-auth>=1.4.1->earthengine-api) (0.4.2)\n",
            "Requirement already satisfied: rsa<5,>=3.1.4 in /usr/local/lib/python3.12/dist-packages (from google-auth>=1.4.1->earthengine-api) (4.9.1)\n",
            "Requirement already satisfied: pyparsing<4,>=3.0.4 in /usr/local/lib/python3.12/dist-packages (from httplib2<1dev,>=0.9.2->earthengine-api) (3.2.5)\n",
            "Requirement already satisfied: google-cloud-core<3.0dev,>=2.3.0 in /usr/local/lib/python3.12/dist-packages (from google-cloud-storage->earthengine-api) (2.4.3)\n",
            "Requirement already satisfied: google-resumable-media>=2.7.2 in /usr/local/lib/python3.12/dist-packages (from google-cloud-storage->earthengine-api) (2.7.2)\n",
            "Requirement already satisfied: google-crc32c<2.0dev,>=1.0 in /usr/local/lib/python3.12/dist-packages (from google-cloud-storage->earthengine-api) (1.7.1)\n",
            "Requirement already satisfied: charset_normalizer<4,>=2 in /usr/local/lib/python3.12/dist-packages (from requests->earthengine-api) (3.4.3)\n",
            "Requirement already satisfied: idna<4,>=2.5 in /usr/local/lib/python3.12/dist-packages (from requests->earthengine-api) (3.10)\n",
            "Requirement already satisfied: urllib3<3,>=1.21.1 in /usr/local/lib/python3.12/dist-packages (from requests->earthengine-api) (2.5.0)\n",
            "Requirement already satisfied: certifi>=2017.4.17 in /usr/local/lib/python3.12/dist-packages (from requests->earthengine-api) (2025.8.3)\n",
            "Requirement already satisfied: googleapis-common-protos<2.0.0,>=1.56.2 in /usr/local/lib/python3.12/dist-packages (from google-api-core!=2.0.*,!=2.1.*,!=2.2.*,!=2.3.0,<3.0.0,>=1.31.5->google-api-python-client>=1.12.1->earthengine-api) (1.70.0)\n",
            "Requirement already satisfied: protobuf!=3.20.0,!=3.20.1,!=4.21.0,!=4.21.1,!=4.21.2,!=4.21.3,!=4.21.4,!=4.21.5,<7.0.0,>=3.19.5 in /usr/local/lib/python3.12/dist-packages (from google-api-core!=2.0.*,!=2.1.*,!=2.2.*,!=2.3.0,<3.0.0,>=1.31.5->google-api-python-client>=1.12.1->earthengine-api) (5.29.5)\n",
            "Requirement already satisfied: proto-plus<2.0.0,>=1.22.3 in /usr/local/lib/python3.12/dist-packages (from google-api-core!=2.0.*,!=2.1.*,!=2.2.*,!=2.3.0,<3.0.0,>=1.31.5->google-api-python-client>=1.12.1->earthengine-api) (1.26.1)\n",
            "Requirement already satisfied: pyasn1<0.7.0,>=0.6.1 in /usr/local/lib/python3.12/dist-packages (from pyasn1-modules>=0.2.1->google-auth>=1.4.1->earthengine-api) (0.6.1)\n"
          ]
        }
      ]
    },
    {
      "cell_type": "code",
      "source": [
        "# Install rasterio, geopandas, pyproj, gdal bindings\n",
        "!apt-get update -qq\n",
        "!apt-get install -y -qq gdal-bin libgdal-dev\n",
        "!pip install rasterio==1.3.8 pyproj==3.5.0"
      ],
      "metadata": {
        "id": "OEEWV6olMLSP",
        "colab": {
          "base_uri": "https://localhost:8080/"
        },
        "outputId": "e9817dff-a0c2-4b7c-f638-092eabb0e398"
      },
      "execution_count": null,
      "outputs": [
        {
          "output_type": "stream",
          "name": "stdout",
          "text": [
            "W: Skipping acquire of configured file 'main/source/Sources' as repository 'https://r2u.stat.illinois.edu/ubuntu jammy InRelease' does not seem to provide it (sources.list entry misspelt?)\n",
            "Selecting previously unselected package python3-numpy.\n",
            "(Reading database ... 126675 files and directories currently installed.)\n",
            "Preparing to unpack .../python3-numpy_1%3a1.21.5-1ubuntu22.04.1_amd64.deb ...\n",
            "Unpacking python3-numpy (1:1.21.5-1ubuntu22.04.1) ...\n",
            "Selecting previously unselected package python3-gdal.\n",
            "Preparing to unpack .../python3-gdal_3.8.4+dfsg-1~jammy0_amd64.deb ...\n",
            "Unpacking python3-gdal (3.8.4+dfsg-1~jammy0) ...\n",
            "Selecting previously unselected package gdal-bin.\n",
            "Preparing to unpack .../gdal-bin_3.8.4+dfsg-1~jammy0_amd64.deb ...\n",
            "Unpacking gdal-bin (3.8.4+dfsg-1~jammy0) ...\n",
            "Setting up python3-numpy (1:1.21.5-1ubuntu22.04.1) ...\n",
            "Setting up python3-gdal (3.8.4+dfsg-1~jammy0) ...\n",
            "Setting up gdal-bin (3.8.4+dfsg-1~jammy0) ...\n",
            "Processing triggers for man-db (2.10.2-1) ...\n",
            "Collecting rasterio==1.3.8\n",
            "  Downloading rasterio-1.3.8.tar.gz (412 kB)\n",
            "\u001b[2K     \u001b[90m━━━━━━━━━━━━━━━━━━━━━━━━━━━━━━━━━━━━━━\u001b[0m \u001b[32m412.4/412.4 kB\u001b[0m \u001b[31m27.2 MB/s\u001b[0m eta \u001b[36m0:00:00\u001b[0m\n",
            "\u001b[?25h  Installing build dependencies ... \u001b[?25l\u001b[?25hdone\n",
            "  Getting requirements to build wheel ... \u001b[?25l\u001b[?25hdone\n",
            "  Preparing metadata (pyproject.toml) ... \u001b[?25l\u001b[?25hdone\n",
            "Collecting pyproj==3.5.0\n",
            "  Downloading pyproj-3.5.0.tar.gz (223 kB)\n",
            "\u001b[2K     \u001b[90m━━━━━━━━━━━━━━━━━━━━━━━━━━━━━━━━━━━━━━\u001b[0m \u001b[32m223.4/223.4 kB\u001b[0m \u001b[31m17.6 MB/s\u001b[0m eta \u001b[36m0:00:00\u001b[0m\n",
            "\u001b[?25h  Installing build dependencies ... \u001b[?25l\u001b[?25hdone\n",
            "  \u001b[1;31merror\u001b[0m: \u001b[1msubprocess-exited-with-error\u001b[0m\n",
            "  \n",
            "  \u001b[31m×\u001b[0m \u001b[32mGetting requirements to build wheel\u001b[0m did not run successfully.\n",
            "  \u001b[31m│\u001b[0m exit code: \u001b[1;36m1\u001b[0m\n",
            "  \u001b[31m╰─>\u001b[0m See above for output.\n",
            "  \n",
            "  \u001b[1;35mnote\u001b[0m: This error originates from a subprocess, and is likely not a problem with pip.\n",
            "  Getting requirements to build wheel ... \u001b[?25l\u001b[?25herror\n",
            "\u001b[1;31merror\u001b[0m: \u001b[1msubprocess-exited-with-error\u001b[0m\n",
            "\n",
            "\u001b[31m×\u001b[0m \u001b[32mGetting requirements to build wheel\u001b[0m did not run successfully.\n",
            "\u001b[31m│\u001b[0m exit code: \u001b[1;36m1\u001b[0m\n",
            "\u001b[31m╰─>\u001b[0m See above for output.\n",
            "\n",
            "\u001b[1;35mnote\u001b[0m: This error originates from a subprocess, and is likely not a problem with pip.\n"
          ]
        }
      ]
    },
    {
      "cell_type": "markdown",
      "source": [
        "# Utility functions"
      ],
      "metadata": {
        "id": "nPjm8CV1MXmg"
      }
    },
    {
      "cell_type": "code",
      "source": [
        "def ensure_dirs():\n",
        "  for p in [INPUTS_TIF, HISTORY_TIF, EXTRA_TIF, FILLED_DIR]:\n",
        "    os.makedirs(p, exist_ok=True)"
      ],
      "metadata": {
        "id": "aDnJ9MdZMaiK"
      },
      "execution_count": 58,
      "outputs": []
    },
    {
      "cell_type": "code",
      "source": [
        "def parse_date_from_filename(fname):\n",
        "    \"\"\"\n",
        "    Try to extract datetime from filenames like:\n",
        "    NDVI_2023-10-07.tif -> 20231007T000000\n",
        "    If the GeoTIFF has metadata with time, prefer that.\n",
        "    \"\"\"\n",
        "    base = os.path.basename(fname)\n",
        "    name, ext = os.path.splitext(base)\n",
        "\n",
        "\n",
        "    # Try common patterns: YYYY-MM-DD or YYYYMMDD\n",
        "    m = re.search(r'(\\d{4})[-_]?([01]\\d)[-_]?([0-3]\\d)', name)\n",
        "    if m:\n",
        "        y, mm, dd = m.groups()\n",
        "        # Try to read time from tags\n",
        "        try:\n",
        "            with rasterio.open(fname) as src:\n",
        "                tags = src.tags()\n",
        "            # Try several common keys\n",
        "            for k in ['ACQUISITION_TIME','SCENE_CENTER_TIME','TIFFTAG_DATETIME','ACQUISITION_DATETIME','DATE_TIME']:\n",
        "                if tags.get(k):\n",
        "                    tstr = tags.get(k)\n",
        "                    # normalize formats like HH:MM:SS or HHMMSS\n",
        "                    hhmmss = re.search(r'(\\d{2}):(\\d{2}):(\\d{2})', tstr)\n",
        "                    if hhmmss:\n",
        "                        hh, mi, ss = hhmmss.groups()\n",
        "                        return f\"{y}{mm}{dd}T{hh}{mi}{ss}\"\n",
        "            # fallback to midnight\n",
        "            return f\"{y}{mm}{dd}T000000\"\n",
        "        except Exception:\n",
        "            return f\"{y}{mm}{dd}T000000\"\n",
        "    else:\n",
        "        # fallback to file modified time\n",
        "        ts = os.path.getmtime(fname)\n",
        "        dt = datetime.utcfromtimestamp(ts)\n",
        "        return dt.strftime('%Y%m%dT%H%M%S')"
      ],
      "metadata": {
        "id": "f5SgaoAYMcTG"
      },
      "execution_count": 59,
      "outputs": []
    },
    {
      "cell_type": "code",
      "source": [
        "def rename_files_to_ssgp_format(folder):\n",
        "    \"\"\"Rename NDVI_YYYY-MM-DD.tif -> L8_NDVI_YYYYMMDDTHHMMSS.tif (in place).\n",
        "    If time not available, uses 000000 for HHMMSS.\n",
        "    \"\"\"\n",
        "    renamed = []\n",
        "    for p in sorted(glob(os.path.join(folder, '*.tif'))):\n",
        "        new_dt = parse_date_from_filename(p)\n",
        "        new_name = f\"L8_NDVI_{new_dt}.tif\"\n",
        "        new_path = os.path.join(folder, new_name)\n",
        "        if os.path.basename(p) != os.path.basename(new_path):\n",
        "            os.rename(p, new_path)\n",
        "        renamed.append(new_path)\n",
        "    return renamed"
      ],
      "metadata": {
        "id": "nHegw7n8Me5H"
      },
      "execution_count": 60,
      "outputs": []
    },
    {
      "cell_type": "code",
      "source": [
        "def get_utm_code_and_extent(extent):\n",
        "    minX, minY, maxX, maxY = extent['minX'], extent['minY'], extent['maxX'], extent['maxY']\n",
        "    y_centroid = (minY + maxY) / 2.0\n",
        "    base_code = 32700 if y_centroid < 0 else 32600\n",
        "    x_centroid = (minX + maxX) / 2.0\n",
        "    zone = int(((x_centroid + 180) / 6.0) % 60) + 1\n",
        "    utm_code = base_code + zone\n",
        "    wgs = pyproj.Proj('epsg:4326')\n",
        "    utm = pyproj.Proj(f'epsg:{utm_code}')\n",
        "    min_corner = pyproj.transform(wgs, utm, minX, minY)\n",
        "    max_corner = pyproj.transform(wgs, utm, maxX, maxY)\n",
        "    utm_extent = {'minX': min_corner[0], 'minY': min_corner[1], 'maxX': max_corner[0], 'maxY': max_corner[1]}\n",
        "    return utm_code, utm_extent"
      ],
      "metadata": {
        "id": "mQhswPTjMg8O"
      },
      "execution_count": 61,
      "outputs": []
    },
    {
      "cell_type": "code",
      "source": [
        "def geotiff_to_npy_and_metadata(tif_path, out_folder, extent, resolution, key_values):\n",
        "    \"\"\"Read TIFF, reproject/resample to target extent+resolution (UTM), save .npy and metadata JSON.\n",
        "    Metadata keys mimic SSGP's S3_L2_LST class.\n",
        "    \"\"\"\n",
        "    os.makedirs(out_folder, exist_ok=True)\n",
        "    with rasterio.open(tif_path) as src:\n",
        "        # Read array\n",
        "        arr = src.read(1).astype(np.float32)\n",
        "        src_crs = src.crs\n",
        "        src_transform = src.transform\n",
        "\n",
        "        # Reproject to WGS84 first if necessary\n",
        "        dst_crs = 'EPSG:4326'\n",
        "        if src.crs != dst_crs:\n",
        "            transform, width, height = calculate_default_transform(src.crs, dst_crs, src.width, src.height, *src.bounds)\n",
        "            kwargs = src.meta.copy()\n",
        "            kwargs.update({'crs': dst_crs, 'transform': transform, 'width': width, 'height': height})\n",
        "            # reproject into an in-memory raster\n",
        "            dest = np.empty((height, width), dtype=np.float32)\n",
        "            reproject(\n",
        "                source=arr,\n",
        "                destination=dest,\n",
        "                src_transform=src.transform,\n",
        "                src_crs=src.crs,\n",
        "                dst_transform=transform,\n",
        "                dst_crs=dst_crs,\n",
        "                resampling=Resampling.bilinear\n",
        "            )\n",
        "            arr = dest\n",
        "            src_transform = transform\n",
        "            src_crs = dst_crs\n",
        "\n",
        "\n",
        "        # Compute UTM projection and warp to UTM and desired resolution and extent\n",
        "        utm_code, utm_extent = get_utm_code_and_extent(extent)\n",
        "        dst_crs = f'EPSG:{utm_code}'\n",
        "\n",
        "\n",
        "        # Build target transform and shape\n",
        "        xres, yres = resolution['xRes'], resolution['yRes']\n",
        "        minx, miny, maxx, maxy = utm_extent['minX'], utm_extent['minY'], utm_extent['maxX'], utm_extent['maxY']\n",
        "        width = int(np.ceil((maxx - minx) / xres))\n",
        "        height = int(np.ceil((maxy - miny) / yres))\n",
        "        dst_transform = rasterio.transform.from_origin(minx, maxy, xres, yres)\n",
        "\n",
        "\n",
        "        # Create destination array and reproject\n",
        "        dest = np.full((height, width), key_values.get('NoData'), dtype=np.float32)\n",
        "        reproject(\n",
        "            source=arr,\n",
        "            destination=dest,\n",
        "            src_transform=src_transform,\n",
        "            src_crs=src_crs,\n",
        "            dst_transform=dst_transform,\n",
        "            dst_crs=dst_crs,\n",
        "            resampling=Resampling.bilinear\n",
        "        )\n",
        "\n",
        "\n",
        "        # Apply key value mapping if needed (here we keep as is; user images have no missing values)\n",
        "        # Replace NaN with gap if present\n",
        "        dest[np.isnan(dest)] = key_values.get('gap')\n",
        "\n",
        "\n",
        "        # Save npy\n",
        "        basename = os.path.splitext(os.path.basename(tif_path))[0]\n",
        "        npy_path = os.path.join(out_folder, f\"{basename}.npy\")\n",
        "        np.save(npy_path, dest.astype(np.float32))\n",
        "\n",
        "\n",
        "        # Save metadata similar to SSGP\n",
        "        metadata = {\n",
        "            'file_name': os.path.basename(tif_path),\n",
        "            'satellite': 'L8',\n",
        "            'datetime': basename.split('_')[-1],\n",
        "            'extent': extent,\n",
        "            'utm_code': utm_code,\n",
        "            'utm_extent': utm_extent,\n",
        "            'resolution': resolution,\n",
        "            'key_values': key_values\n",
        "        }\n",
        "        meta_path = os.path.join(out_folder, f\"{basename}_metadata.json\")\n",
        "        with open(meta_path, 'w') as f:\n",
        "            json.dump(metadata, f, indent=4)\n",
        "    return npy_path, meta_path"
      ],
      "metadata": {
        "id": "tkaP0mBuMjKz"
      },
      "execution_count": 62,
      "outputs": []
    },
    {
      "cell_type": "markdown",
      "source": [
        "# Prepare data (rename + npy)"
      ],
      "metadata": {
        "id": "3YkOPG9BNAwD"
      }
    },
    {
      "cell_type": "code",
      "source": [
        "ensure_dirs()\n",
        "print('Renaming input and history TIFFs to SSGP filename format...')\n",
        "rename_files_to_ssgp_format(INPUTS_TIF)\n",
        "rename_files_to_ssgp_format(HISTORY_TIF)"
      ],
      "metadata": {
        "id": "pyfhM27xNFRi",
        "colab": {
          "base_uri": "https://localhost:8080/"
        },
        "outputId": "c803516c-4a3f-4e2c-c57a-97b9d5f1656e"
      },
      "execution_count": null,
      "outputs": [
        {
          "output_type": "stream",
          "name": "stdout",
          "text": [
            "Renaming input and history TIFFs to SSGP filename format...\n"
          ]
        },
        {
          "output_type": "execute_result",
          "data": {
            "text/plain": [
              "['/content/drive/MyDrive/SSGP_L8G/history/L8_NDVI_20130425T000000.tif',\n",
              " '/content/drive/MyDrive/SSGP_L8G/history/L8_NDVI_20130527T000000.tif',\n",
              " '/content/drive/MyDrive/SSGP_L8G/history/L8_NDVI_20130605T000000.tif',\n",
              " '/content/drive/MyDrive/SSGP_L8G/history/L8_NDVI_20130612T000000.tif',\n",
              " '/content/drive/MyDrive/SSGP_L8G/history/L8_NDVI_20130707T000000.tif',\n",
              " '/content/drive/MyDrive/SSGP_L8G/history/L8_NDVI_20130714T000000.tif',\n",
              " '/content/drive/MyDrive/SSGP_L8G/history/L8_NDVI_20130815T000000.tif',\n",
              " '/content/drive/MyDrive/SSGP_L8G/history/L8_NDVI_20130831T000000.tif',\n",
              " '/content/drive/MyDrive/SSGP_L8G/history/L8_NDVI_20131018T000000.tif',\n",
              " '/content/drive/MyDrive/SSGP_L8G/history/L8_NDVI_20131112T000000.tif',\n",
              " '/content/drive/MyDrive/SSGP_L8G/history/L8_NDVI_20131128T000000.tif',\n",
              " '/content/drive/MyDrive/SSGP_L8G/history/L8_NDVI_20131205T000000.tif',\n",
              " '/content/drive/MyDrive/SSGP_L8G/history/L8_NDVI_20131230T000000.tif',\n",
              " '/content/drive/MyDrive/SSGP_L8G/history/L8_NDVI_20140115T000000.tif',\n",
              " '/content/drive/MyDrive/SSGP_L8G/history/L8_NDVI_20140320T000000.tif',\n",
              " '/content/drive/MyDrive/SSGP_L8G/history/L8_NDVI_20140327T000000.tif',\n",
              " '/content/drive/MyDrive/SSGP_L8G/history/L8_NDVI_20140523T000000.tif',\n",
              " '/content/drive/MyDrive/SSGP_L8G/history/L8_NDVI_20140530T000000.tif',\n",
              " '/content/drive/MyDrive/SSGP_L8G/history/L8_NDVI_20140608T000000.tif',\n",
              " '/content/drive/MyDrive/SSGP_L8G/history/L8_NDVI_20140615T000000.tif',\n",
              " '/content/drive/MyDrive/SSGP_L8G/history/L8_NDVI_20140701T000000.tif',\n",
              " '/content/drive/MyDrive/SSGP_L8G/history/L8_NDVI_20140717T000000.tif',\n",
              " '/content/drive/MyDrive/SSGP_L8G/history/L8_NDVI_20140818T000000.tif',\n",
              " '/content/drive/MyDrive/SSGP_L8G/history/L8_NDVI_20140912T000000.tif',\n",
              " '/content/drive/MyDrive/SSGP_L8G/history/L8_NDVI_20140928T000000.tif',\n",
              " '/content/drive/MyDrive/SSGP_L8G/history/L8_NDVI_20141014T000000.tif',\n",
              " '/content/drive/MyDrive/SSGP_L8G/history/L8_NDVI_20141030T000000.tif',\n",
              " '/content/drive/MyDrive/SSGP_L8G/history/L8_NDVI_20141224T000000.tif',\n",
              " '/content/drive/MyDrive/SSGP_L8G/history/L8_NDVI_20150102T000000.tif',\n",
              " '/content/drive/MyDrive/SSGP_L8G/history/L8_NDVI_20150118T000000.tif',\n",
              " '/content/drive/MyDrive/SSGP_L8G/history/L8_NDVI_20150210T000000.tif',\n",
              " '/content/drive/MyDrive/SSGP_L8G/history/L8_NDVI_20150226T000000.tif',\n",
              " '/content/drive/MyDrive/SSGP_L8G/history/L8_NDVI_20150323T000000.tif',\n",
              " '/content/drive/MyDrive/SSGP_L8G/history/L8_NDVI_20150408T000000.tif',\n",
              " '/content/drive/MyDrive/SSGP_L8G/history/L8_NDVI_20150415T000000.tif',\n",
              " '/content/drive/MyDrive/SSGP_L8G/history/L8_NDVI_20150424T000000.tif',\n",
              " '/content/drive/MyDrive/SSGP_L8G/history/L8_NDVI_20150510T000000.tif',\n",
              " '/content/drive/MyDrive/SSGP_L8G/history/L8_NDVI_20150602T000000.tif',\n",
              " '/content/drive/MyDrive/SSGP_L8G/history/L8_NDVI_20150611T000000.tif',\n",
              " '/content/drive/MyDrive/SSGP_L8G/history/L8_NDVI_20150704T000000.tif',\n",
              " '/content/drive/MyDrive/SSGP_L8G/history/L8_NDVI_20150720T000000.tif',\n",
              " '/content/drive/MyDrive/SSGP_L8G/history/L8_NDVI_20150805T000000.tif',\n",
              " '/content/drive/MyDrive/SSGP_L8G/history/L8_NDVI_20150821T000000.tif',\n",
              " '/content/drive/MyDrive/SSGP_L8G/history/L8_NDVI_20150830T000000.tif',\n",
              " '/content/drive/MyDrive/SSGP_L8G/history/L8_NDVI_20151001T000000.tif',\n",
              " '/content/drive/MyDrive/SSGP_L8G/history/L8_NDVI_20151008T000000.tif',\n",
              " '/content/drive/MyDrive/SSGP_L8G/history/L8_NDVI_20151109T000000.tif',\n",
              " '/content/drive/MyDrive/SSGP_L8G/history/L8_NDVI_20151118T000000.tif',\n",
              " '/content/drive/MyDrive/SSGP_L8G/history/L8_NDVI_20160309T000000.tif',\n",
              " '/content/drive/MyDrive/SSGP_L8G/history/L8_NDVI_20160410T000000.tif',\n",
              " '/content/drive/MyDrive/SSGP_L8G/history/L8_NDVI_20160620T000000.tif',\n",
              " '/content/drive/MyDrive/SSGP_L8G/history/L8_NDVI_20160629T000000.tif',\n",
              " '/content/drive/MyDrive/SSGP_L8G/history/L8_NDVI_20160807T000000.tif',\n",
              " '/content/drive/MyDrive/SSGP_L8G/history/L8_NDVI_20160816T000000.tif',\n",
              " '/content/drive/MyDrive/SSGP_L8G/history/L8_NDVI_20160823T000000.tif',\n",
              " '/content/drive/MyDrive/SSGP_L8G/history/L8_NDVI_20160908T000000.tif',\n",
              " '/content/drive/MyDrive/SSGP_L8G/history/L8_NDVI_20160924T000000.tif',\n",
              " '/content/drive/MyDrive/SSGP_L8G/history/L8_NDVI_20161003T000000.tif',\n",
              " '/content/drive/MyDrive/SSGP_L8G/history/L8_NDVI_20161120T000000.tif',\n",
              " '/content/drive/MyDrive/SSGP_L8G/history/L8_NDVI_20161206T000000.tif',\n",
              " '/content/drive/MyDrive/SSGP_L8G/history/L8_NDVI_20170107T000000.tif',\n",
              " '/content/drive/MyDrive/SSGP_L8G/history/L8_NDVI_20170215T000000.tif',\n",
              " '/content/drive/MyDrive/SSGP_L8G/history/L8_NDVI_20170224T000000.tif',\n",
              " '/content/drive/MyDrive/SSGP_L8G/history/L8_NDVI_20170328T000000.tif',\n",
              " '/content/drive/MyDrive/SSGP_L8G/history/L8_NDVI_20170413T000000.tif',\n",
              " '/content/drive/MyDrive/SSGP_L8G/history/L8_NDVI_20170420T000000.tif',\n",
              " '/content/drive/MyDrive/SSGP_L8G/history/L8_NDVI_20170429T000000.tif',\n",
              " '/content/drive/MyDrive/SSGP_L8G/history/L8_NDVI_20170515T000000.tif',\n",
              " '/content/drive/MyDrive/SSGP_L8G/history/L8_NDVI_20170522T000000.tif',\n",
              " '/content/drive/MyDrive/SSGP_L8G/history/L8_NDVI_20170616T000000.tif',\n",
              " '/content/drive/MyDrive/SSGP_L8G/history/L8_NDVI_20170623T000000.tif',\n",
              " '/content/drive/MyDrive/SSGP_L8G/history/L8_NDVI_20170718T000000.tif',\n",
              " '/content/drive/MyDrive/SSGP_L8G/history/L8_NDVI_20170803T000000.tif',\n",
              " '/content/drive/MyDrive/SSGP_L8G/history/L8_NDVI_20170826T000000.tif',\n",
              " '/content/drive/MyDrive/SSGP_L8G/history/L8_NDVI_20170920T000000.tif',\n",
              " '/content/drive/MyDrive/SSGP_L8G/history/L8_NDVI_20171006T000000.tif',\n",
              " '/content/drive/MyDrive/SSGP_L8G/history/L8_NDVI_20171013T000000.tif',\n",
              " '/content/drive/MyDrive/SSGP_L8G/history/L8_NDVI_20171114T000000.tif',\n",
              " '/content/drive/MyDrive/SSGP_L8G/history/L8_NDVI_20180202T000000.tif',\n",
              " '/content/drive/MyDrive/SSGP_L8G/history/L8_NDVI_20180227T000000.tif',\n",
              " '/content/drive/MyDrive/SSGP_L8G/history/L8_NDVI_20180322T000000.tif',\n",
              " '/content/drive/MyDrive/SSGP_L8G/history/L8_NDVI_20180407T000000.tif',\n",
              " '/content/drive/MyDrive/SSGP_L8G/history/L8_NDVI_20180518T000000.tif',\n",
              " '/content/drive/MyDrive/SSGP_L8G/history/L8_NDVI_20180619T000000.tif',\n",
              " '/content/drive/MyDrive/SSGP_L8G/history/L8_NDVI_20180626T000000.tif',\n",
              " '/content/drive/MyDrive/SSGP_L8G/history/L8_NDVI_20180806T000000.tif',\n",
              " '/content/drive/MyDrive/SSGP_L8G/history/L8_NDVI_20180930T000000.tif',\n",
              " '/content/drive/MyDrive/SSGP_L8G/history/L8_NDVI_20181016T000000.tif',\n",
              " '/content/drive/MyDrive/SSGP_L8G/history/L8_NDVI_20181025T000000.tif',\n",
              " '/content/drive/MyDrive/SSGP_L8G/history/L8_NDVI_20181101T000000.tif',\n",
              " '/content/drive/MyDrive/SSGP_L8G/history/L8_NDVI_20181212T000000.tif',\n",
              " '/content/drive/MyDrive/SSGP_L8G/history/L8_NDVI_20190104T000000.tif',\n",
              " '/content/drive/MyDrive/SSGP_L8G/history/L8_NDVI_20190205T000000.tif',\n",
              " '/content/drive/MyDrive/SSGP_L8G/history/L8_NDVI_20190214T000000.tif',\n",
              " '/content/drive/MyDrive/SSGP_L8G/history/L8_NDVI_20190221T000000.tif',\n",
              " '/content/drive/MyDrive/SSGP_L8G/history/L8_NDVI_20190325T000000.tif',\n",
              " '/content/drive/MyDrive/SSGP_L8G/history/L8_NDVI_20190613T000000.tif',\n",
              " '/content/drive/MyDrive/SSGP_L8G/history/L8_NDVI_20190629T000000.tif',\n",
              " '/content/drive/MyDrive/SSGP_L8G/history/L8_NDVI_20190724T000000.tif',\n",
              " '/content/drive/MyDrive/SSGP_L8G/history/L8_NDVI_20190809T000000.tif',\n",
              " '/content/drive/MyDrive/SSGP_L8G/history/L8_NDVI_20190825T000000.tif',\n",
              " '/content/drive/MyDrive/SSGP_L8G/history/L8_NDVI_20190917T000000.tif',\n",
              " '/content/drive/MyDrive/SSGP_L8G/history/L8_NDVI_20191003T000000.tif',\n",
              " '/content/drive/MyDrive/SSGP_L8G/history/L8_NDVI_20191231T000000.tif',\n",
              " '/content/drive/MyDrive/SSGP_L8G/history/L8_NDVI_20200107T000000.tif',\n",
              " '/content/drive/MyDrive/SSGP_L8G/history/L8_NDVI_20200116T000000.tif',\n",
              " '/content/drive/MyDrive/SSGP_L8G/history/L8_NDVI_20200224T000000.tif',\n",
              " '/content/drive/MyDrive/SSGP_L8G/history/L8_NDVI_20200327T000000.tif',\n",
              " '/content/drive/MyDrive/SSGP_L8G/history/L8_NDVI_20200405T000000.tif',\n",
              " '/content/drive/MyDrive/SSGP_L8G/history/L8_NDVI_20200412T000000.tif',\n",
              " '/content/drive/MyDrive/SSGP_L8G/history/L8_NDVI_20200507T000000.tif',\n",
              " '/content/drive/MyDrive/SSGP_L8G/history/L8_NDVI_20200530T000000.tif',\n",
              " '/content/drive/MyDrive/SSGP_L8G/history/L8_NDVI_20200624T000000.tif',\n",
              " '/content/drive/MyDrive/SSGP_L8G/history/L8_NDVI_20200701T000000.tif',\n",
              " '/content/drive/MyDrive/SSGP_L8G/history/L8_NDVI_20200811T000000.tif',\n",
              " '/content/drive/MyDrive/SSGP_L8G/history/L8_NDVI_20200827T000000.tif',\n",
              " '/content/drive/MyDrive/SSGP_L8G/history/L8_NDVI_20200912T000000.tif',\n",
              " '/content/drive/MyDrive/SSGP_L8G/history/L8_NDVI_20210118T000000.tif',\n",
              " '/content/drive/MyDrive/SSGP_L8G/history/L8_NDVI_20210219T000000.tif',\n",
              " '/content/drive/MyDrive/SSGP_L8G/history/L8_NDVI_20210226T000000.tif',\n",
              " '/content/drive/MyDrive/SSGP_L8G/history/L8_NDVI_20210323T000000.tif',\n",
              " '/content/drive/MyDrive/SSGP_L8G/history/L8_NDVI_20210330T000000.tif',\n",
              " '/content/drive/MyDrive/SSGP_L8G/history/L8_NDVI_20210408T000000.tif',\n",
              " '/content/drive/MyDrive/SSGP_L8G/history/L8_NDVI_20210415T000000.tif',\n",
              " '/content/drive/MyDrive/SSGP_L8G/history/L8_NDVI_20210424T000000.tif',\n",
              " '/content/drive/MyDrive/SSGP_L8G/history/L8_NDVI_20210611T000000.tif',\n",
              " '/content/drive/MyDrive/SSGP_L8G/history/L8_NDVI_20210618T000000.tif',\n",
              " '/content/drive/MyDrive/SSGP_L8G/history/L8_NDVI_20210627T000000.tif',\n",
              " '/content/drive/MyDrive/SSGP_L8G/history/L8_NDVI_20210720T000000.tif',\n",
              " '/content/drive/MyDrive/SSGP_L8G/history/L8_NDVI_20210729T000000.tif',\n",
              " '/content/drive/MyDrive/SSGP_L8G/history/L8_NDVI_20210814T000000.tif',\n",
              " '/content/drive/MyDrive/SSGP_L8G/history/L8_NDVI_20210821T000000.tif',\n",
              " '/content/drive/MyDrive/SSGP_L8G/history/L8_NDVI_20210830T000000.tif',\n",
              " '/content/drive/MyDrive/SSGP_L8G/history/L8_NDVI_20210906T000000.tif',\n",
              " '/content/drive/MyDrive/SSGP_L8G/history/L8_NDVI_20210922T000000.tif',\n",
              " '/content/drive/MyDrive/SSGP_L8G/history/L8_NDVI_20211001T000000.tif',\n",
              " '/content/drive/MyDrive/SSGP_L8G/history/L8_NDVI_20211017T000000.tif',\n",
              " '/content/drive/MyDrive/SSGP_L8G/history/L8_NDVI_20211024T000000.tif',\n",
              " '/content/drive/MyDrive/SSGP_L8G/history/L8_NDVI_20220112T000000.tif',\n",
              " '/content/drive/MyDrive/SSGP_L8G/history/L8_NDVI_20220121T000000.tif',\n",
              " '/content/drive/MyDrive/SSGP_L8G/history/L8_NDVI_20220128T000000.tif',\n",
              " '/content/drive/MyDrive/SSGP_L8G/history/L8_NDVI_20220213T000000.tif',\n",
              " '/content/drive/MyDrive/SSGP_L8G/history/L8_NDVI_20220301T000000.tif',\n",
              " '/content/drive/MyDrive/SSGP_L8G/history/L8_NDVI_20220310T000000.tif',\n",
              " '/content/drive/MyDrive/SSGP_L8G/history/L8_NDVI_20220326T000000.tif',\n",
              " '/content/drive/MyDrive/SSGP_L8G/history/L8_NDVI_20220418T000000.tif',\n",
              " '/content/drive/MyDrive/SSGP_L8G/history/L8_NDVI_20220427T000000.tif',\n",
              " '/content/drive/MyDrive/SSGP_L8G/history/L8_NDVI_20220520T000000.tif',\n",
              " '/content/drive/MyDrive/SSGP_L8G/history/L8_NDVI_20220707T000000.tif',\n",
              " '/content/drive/MyDrive/SSGP_L8G/history/L8_NDVI_20220716T000000.tif',\n",
              " '/content/drive/MyDrive/SSGP_L8G/history/L8_NDVI_20220801T000000.tif',\n",
              " '/content/drive/MyDrive/SSGP_L8G/history/L8_NDVI_20220808T000000.tif',\n",
              " '/content/drive/MyDrive/SSGP_L8G/history/L8_NDVI_20220902T000000.tif',\n",
              " '/content/drive/MyDrive/SSGP_L8G/history/L8_NDVI_20220918T000000.tif',\n",
              " '/content/drive/MyDrive/SSGP_L8G/history/L8_NDVI_20221004T000000.tif',\n",
              " '/content/drive/MyDrive/SSGP_L8G/history/L8_NDVI_20221011T000000.tif',\n",
              " '/content/drive/MyDrive/SSGP_L8G/history/L8_NDVI_20221027T000000.tif',\n",
              " '/content/drive/MyDrive/SSGP_L8G/history/L8_NDVI_20221121T000000.tif',\n",
              " '/content/drive/MyDrive/SSGP_L8G/history/L8_NDVI_20230124T000000.tif',\n",
              " '/content/drive/MyDrive/SSGP_L8G/history/L8_NDVI_20230131T000000.tif',\n",
              " '/content/drive/MyDrive/SSGP_L8G/history/L8_NDVI_20230209T000000.tif',\n",
              " '/content/drive/MyDrive/SSGP_L8G/history/L8_NDVI_20230216T000000.tif',\n",
              " '/content/drive/MyDrive/SSGP_L8G/history/L8_NDVI_20230225T000000.tif',\n",
              " '/content/drive/MyDrive/SSGP_L8G/history/L8_NDVI_20230304T000000.tif',\n",
              " '/content/drive/MyDrive/SSGP_L8G/history/L8_NDVI_20230313T000000.tif',\n",
              " '/content/drive/MyDrive/SSGP_L8G/history/L8_NDVI_20230405T000000.tif',\n",
              " '/content/drive/MyDrive/SSGP_L8G/history/L8_NDVI_20230414T000000.tif',\n",
              " '/content/drive/MyDrive/SSGP_L8G/history/L8_NDVI_20230601T000000.tif',\n",
              " '/content/drive/MyDrive/SSGP_L8G/history/L8_NDVI_20230617T000000.tif',\n",
              " '/content/drive/MyDrive/SSGP_L8G/history/L8_NDVI_20230624T000000.tif',\n",
              " '/content/drive/MyDrive/SSGP_L8G/history/L8_NDVI_20230811T000000.tif',\n",
              " '/content/drive/MyDrive/SSGP_L8G/history/L8_NDVI_20230905T000000.tif',\n",
              " '/content/drive/MyDrive/SSGP_L8G/history/L8_NDVI_20230912T000000.tif',\n",
              " '/content/drive/MyDrive/SSGP_L8G/history/L8_NDVI_20231007T000000.tif']"
            ]
          },
          "metadata": {},
          "execution_count": 31
        }
      ]
    },
    {
      "cell_type": "code",
      "source": [
        "# Convert all TIFFs in history and inputs to npy\n",
        "print('Converting TIFFs to NPY+metadata...')\n",
        "for folder in [HISTORY_TIF, INPUTS_TIF]:\n",
        "    for tif in sorted(glob(os.path.join(folder, '*.tif'))):\n",
        "        # Decide output subfolder: history or inputs inside ROOT (SSGP expects History/Inputs/Extra)\n",
        "        if os.path.commonpath([tif, HISTORY_TIF]) == HISTORY_TIF:\n",
        "          out_sub = os.path.join(ROOT_DRIVE_PATH, 'History')\n",
        "        else:\n",
        "          out_sub = os.path.join(ROOT_DRIVE_PATH, 'Inputs')\n",
        "        os.makedirs(out_sub, exist_ok=True)\n",
        "        npy_path, meta_path = geotiff_to_npy_and_metadata(tif, out_sub, EXTENT, RESOLUTION, KEY_VALUES)\n",
        "        print('Saved', npy_path, meta_path)"
      ],
      "metadata": {
        "id": "CF1orTg4NIBY",
        "colab": {
          "base_uri": "https://localhost:8080/"
        },
        "outputId": "9669070b-94af-4be4-87b2-b2680fe60d26"
      },
      "execution_count": null,
      "outputs": [
        {
          "output_type": "stream",
          "name": "stdout",
          "text": [
            "Converting TIFFs to NPY+metadata...\n",
            "Saved /content/drive/MyDrive/SSGP_L8G/History/L8_NDVI_20130425T000000.npy /content/drive/MyDrive/SSGP_L8G/History/L8_NDVI_20130425T000000_metadata.json\n",
            "Saved /content/drive/MyDrive/SSGP_L8G/History/L8_NDVI_20130527T000000.npy /content/drive/MyDrive/SSGP_L8G/History/L8_NDVI_20130527T000000_metadata.json\n",
            "Saved /content/drive/MyDrive/SSGP_L8G/History/L8_NDVI_20130605T000000.npy /content/drive/MyDrive/SSGP_L8G/History/L8_NDVI_20130605T000000_metadata.json\n",
            "Saved /content/drive/MyDrive/SSGP_L8G/History/L8_NDVI_20130612T000000.npy /content/drive/MyDrive/SSGP_L8G/History/L8_NDVI_20130612T000000_metadata.json\n",
            "Saved /content/drive/MyDrive/SSGP_L8G/History/L8_NDVI_20130707T000000.npy /content/drive/MyDrive/SSGP_L8G/History/L8_NDVI_20130707T000000_metadata.json\n",
            "Saved /content/drive/MyDrive/SSGP_L8G/History/L8_NDVI_20130714T000000.npy /content/drive/MyDrive/SSGP_L8G/History/L8_NDVI_20130714T000000_metadata.json\n",
            "Saved /content/drive/MyDrive/SSGP_L8G/History/L8_NDVI_20130815T000000.npy /content/drive/MyDrive/SSGP_L8G/History/L8_NDVI_20130815T000000_metadata.json\n",
            "Saved /content/drive/MyDrive/SSGP_L8G/History/L8_NDVI_20130831T000000.npy /content/drive/MyDrive/SSGP_L8G/History/L8_NDVI_20130831T000000_metadata.json\n",
            "Saved /content/drive/MyDrive/SSGP_L8G/History/L8_NDVI_20131018T000000.npy /content/drive/MyDrive/SSGP_L8G/History/L8_NDVI_20131018T000000_metadata.json\n",
            "Saved /content/drive/MyDrive/SSGP_L8G/History/L8_NDVI_20131112T000000.npy /content/drive/MyDrive/SSGP_L8G/History/L8_NDVI_20131112T000000_metadata.json\n",
            "Saved /content/drive/MyDrive/SSGP_L8G/History/L8_NDVI_20131128T000000.npy /content/drive/MyDrive/SSGP_L8G/History/L8_NDVI_20131128T000000_metadata.json\n",
            "Saved /content/drive/MyDrive/SSGP_L8G/History/L8_NDVI_20131205T000000.npy /content/drive/MyDrive/SSGP_L8G/History/L8_NDVI_20131205T000000_metadata.json\n",
            "Saved /content/drive/MyDrive/SSGP_L8G/History/L8_NDVI_20131230T000000.npy /content/drive/MyDrive/SSGP_L8G/History/L8_NDVI_20131230T000000_metadata.json\n",
            "Saved /content/drive/MyDrive/SSGP_L8G/History/L8_NDVI_20140115T000000.npy /content/drive/MyDrive/SSGP_L8G/History/L8_NDVI_20140115T000000_metadata.json\n",
            "Saved /content/drive/MyDrive/SSGP_L8G/History/L8_NDVI_20140320T000000.npy /content/drive/MyDrive/SSGP_L8G/History/L8_NDVI_20140320T000000_metadata.json\n",
            "Saved /content/drive/MyDrive/SSGP_L8G/History/L8_NDVI_20140327T000000.npy /content/drive/MyDrive/SSGP_L8G/History/L8_NDVI_20140327T000000_metadata.json\n",
            "Saved /content/drive/MyDrive/SSGP_L8G/History/L8_NDVI_20140523T000000.npy /content/drive/MyDrive/SSGP_L8G/History/L8_NDVI_20140523T000000_metadata.json\n",
            "Saved /content/drive/MyDrive/SSGP_L8G/History/L8_NDVI_20140530T000000.npy /content/drive/MyDrive/SSGP_L8G/History/L8_NDVI_20140530T000000_metadata.json\n",
            "Saved /content/drive/MyDrive/SSGP_L8G/History/L8_NDVI_20140608T000000.npy /content/drive/MyDrive/SSGP_L8G/History/L8_NDVI_20140608T000000_metadata.json\n",
            "Saved /content/drive/MyDrive/SSGP_L8G/History/L8_NDVI_20140615T000000.npy /content/drive/MyDrive/SSGP_L8G/History/L8_NDVI_20140615T000000_metadata.json\n",
            "Saved /content/drive/MyDrive/SSGP_L8G/History/L8_NDVI_20140701T000000.npy /content/drive/MyDrive/SSGP_L8G/History/L8_NDVI_20140701T000000_metadata.json\n",
            "Saved /content/drive/MyDrive/SSGP_L8G/History/L8_NDVI_20140717T000000.npy /content/drive/MyDrive/SSGP_L8G/History/L8_NDVI_20140717T000000_metadata.json\n",
            "Saved /content/drive/MyDrive/SSGP_L8G/History/L8_NDVI_20140818T000000.npy /content/drive/MyDrive/SSGP_L8G/History/L8_NDVI_20140818T000000_metadata.json\n",
            "Saved /content/drive/MyDrive/SSGP_L8G/History/L8_NDVI_20140912T000000.npy /content/drive/MyDrive/SSGP_L8G/History/L8_NDVI_20140912T000000_metadata.json\n",
            "Saved /content/drive/MyDrive/SSGP_L8G/History/L8_NDVI_20140928T000000.npy /content/drive/MyDrive/SSGP_L8G/History/L8_NDVI_20140928T000000_metadata.json\n",
            "Saved /content/drive/MyDrive/SSGP_L8G/History/L8_NDVI_20141014T000000.npy /content/drive/MyDrive/SSGP_L8G/History/L8_NDVI_20141014T000000_metadata.json\n",
            "Saved /content/drive/MyDrive/SSGP_L8G/History/L8_NDVI_20141030T000000.npy /content/drive/MyDrive/SSGP_L8G/History/L8_NDVI_20141030T000000_metadata.json\n",
            "Saved /content/drive/MyDrive/SSGP_L8G/History/L8_NDVI_20141224T000000.npy /content/drive/MyDrive/SSGP_L8G/History/L8_NDVI_20141224T000000_metadata.json\n",
            "Saved /content/drive/MyDrive/SSGP_L8G/History/L8_NDVI_20150102T000000.npy /content/drive/MyDrive/SSGP_L8G/History/L8_NDVI_20150102T000000_metadata.json\n",
            "Saved /content/drive/MyDrive/SSGP_L8G/History/L8_NDVI_20150118T000000.npy /content/drive/MyDrive/SSGP_L8G/History/L8_NDVI_20150118T000000_metadata.json\n",
            "Saved /content/drive/MyDrive/SSGP_L8G/History/L8_NDVI_20150210T000000.npy /content/drive/MyDrive/SSGP_L8G/History/L8_NDVI_20150210T000000_metadata.json\n",
            "Saved /content/drive/MyDrive/SSGP_L8G/History/L8_NDVI_20150226T000000.npy /content/drive/MyDrive/SSGP_L8G/History/L8_NDVI_20150226T000000_metadata.json\n",
            "Saved /content/drive/MyDrive/SSGP_L8G/History/L8_NDVI_20150323T000000.npy /content/drive/MyDrive/SSGP_L8G/History/L8_NDVI_20150323T000000_metadata.json\n",
            "Saved /content/drive/MyDrive/SSGP_L8G/History/L8_NDVI_20150408T000000.npy /content/drive/MyDrive/SSGP_L8G/History/L8_NDVI_20150408T000000_metadata.json\n",
            "Saved /content/drive/MyDrive/SSGP_L8G/History/L8_NDVI_20150415T000000.npy /content/drive/MyDrive/SSGP_L8G/History/L8_NDVI_20150415T000000_metadata.json\n",
            "Saved /content/drive/MyDrive/SSGP_L8G/History/L8_NDVI_20150424T000000.npy /content/drive/MyDrive/SSGP_L8G/History/L8_NDVI_20150424T000000_metadata.json\n",
            "Saved /content/drive/MyDrive/SSGP_L8G/History/L8_NDVI_20150510T000000.npy /content/drive/MyDrive/SSGP_L8G/History/L8_NDVI_20150510T000000_metadata.json\n",
            "Saved /content/drive/MyDrive/SSGP_L8G/History/L8_NDVI_20150602T000000.npy /content/drive/MyDrive/SSGP_L8G/History/L8_NDVI_20150602T000000_metadata.json\n",
            "Saved /content/drive/MyDrive/SSGP_L8G/History/L8_NDVI_20150611T000000.npy /content/drive/MyDrive/SSGP_L8G/History/L8_NDVI_20150611T000000_metadata.json\n",
            "Saved /content/drive/MyDrive/SSGP_L8G/History/L8_NDVI_20150704T000000.npy /content/drive/MyDrive/SSGP_L8G/History/L8_NDVI_20150704T000000_metadata.json\n",
            "Saved /content/drive/MyDrive/SSGP_L8G/History/L8_NDVI_20150720T000000.npy /content/drive/MyDrive/SSGP_L8G/History/L8_NDVI_20150720T000000_metadata.json\n",
            "Saved /content/drive/MyDrive/SSGP_L8G/History/L8_NDVI_20150805T000000.npy /content/drive/MyDrive/SSGP_L8G/History/L8_NDVI_20150805T000000_metadata.json\n",
            "Saved /content/drive/MyDrive/SSGP_L8G/History/L8_NDVI_20150821T000000.npy /content/drive/MyDrive/SSGP_L8G/History/L8_NDVI_20150821T000000_metadata.json\n",
            "Saved /content/drive/MyDrive/SSGP_L8G/History/L8_NDVI_20150830T000000.npy /content/drive/MyDrive/SSGP_L8G/History/L8_NDVI_20150830T000000_metadata.json\n",
            "Saved /content/drive/MyDrive/SSGP_L8G/History/L8_NDVI_20151001T000000.npy /content/drive/MyDrive/SSGP_L8G/History/L8_NDVI_20151001T000000_metadata.json\n",
            "Saved /content/drive/MyDrive/SSGP_L8G/History/L8_NDVI_20151008T000000.npy /content/drive/MyDrive/SSGP_L8G/History/L8_NDVI_20151008T000000_metadata.json\n",
            "Saved /content/drive/MyDrive/SSGP_L8G/History/L8_NDVI_20151109T000000.npy /content/drive/MyDrive/SSGP_L8G/History/L8_NDVI_20151109T000000_metadata.json\n",
            "Saved /content/drive/MyDrive/SSGP_L8G/History/L8_NDVI_20151118T000000.npy /content/drive/MyDrive/SSGP_L8G/History/L8_NDVI_20151118T000000_metadata.json\n",
            "Saved /content/drive/MyDrive/SSGP_L8G/History/L8_NDVI_20160309T000000.npy /content/drive/MyDrive/SSGP_L8G/History/L8_NDVI_20160309T000000_metadata.json\n",
            "Saved /content/drive/MyDrive/SSGP_L8G/History/L8_NDVI_20160410T000000.npy /content/drive/MyDrive/SSGP_L8G/History/L8_NDVI_20160410T000000_metadata.json\n",
            "Saved /content/drive/MyDrive/SSGP_L8G/History/L8_NDVI_20160620T000000.npy /content/drive/MyDrive/SSGP_L8G/History/L8_NDVI_20160620T000000_metadata.json\n",
            "Saved /content/drive/MyDrive/SSGP_L8G/History/L8_NDVI_20160629T000000.npy /content/drive/MyDrive/SSGP_L8G/History/L8_NDVI_20160629T000000_metadata.json\n",
            "Saved /content/drive/MyDrive/SSGP_L8G/History/L8_NDVI_20160807T000000.npy /content/drive/MyDrive/SSGP_L8G/History/L8_NDVI_20160807T000000_metadata.json\n",
            "Saved /content/drive/MyDrive/SSGP_L8G/History/L8_NDVI_20160816T000000.npy /content/drive/MyDrive/SSGP_L8G/History/L8_NDVI_20160816T000000_metadata.json\n",
            "Saved /content/drive/MyDrive/SSGP_L8G/History/L8_NDVI_20160823T000000.npy /content/drive/MyDrive/SSGP_L8G/History/L8_NDVI_20160823T000000_metadata.json\n",
            "Saved /content/drive/MyDrive/SSGP_L8G/History/L8_NDVI_20160908T000000.npy /content/drive/MyDrive/SSGP_L8G/History/L8_NDVI_20160908T000000_metadata.json\n",
            "Saved /content/drive/MyDrive/SSGP_L8G/History/L8_NDVI_20160924T000000.npy /content/drive/MyDrive/SSGP_L8G/History/L8_NDVI_20160924T000000_metadata.json\n",
            "Saved /content/drive/MyDrive/SSGP_L8G/History/L8_NDVI_20161003T000000.npy /content/drive/MyDrive/SSGP_L8G/History/L8_NDVI_20161003T000000_metadata.json\n",
            "Saved /content/drive/MyDrive/SSGP_L8G/History/L8_NDVI_20161120T000000.npy /content/drive/MyDrive/SSGP_L8G/History/L8_NDVI_20161120T000000_metadata.json\n",
            "Saved /content/drive/MyDrive/SSGP_L8G/History/L8_NDVI_20161206T000000.npy /content/drive/MyDrive/SSGP_L8G/History/L8_NDVI_20161206T000000_metadata.json\n",
            "Saved /content/drive/MyDrive/SSGP_L8G/History/L8_NDVI_20170107T000000.npy /content/drive/MyDrive/SSGP_L8G/History/L8_NDVI_20170107T000000_metadata.json\n",
            "Saved /content/drive/MyDrive/SSGP_L8G/History/L8_NDVI_20170215T000000.npy /content/drive/MyDrive/SSGP_L8G/History/L8_NDVI_20170215T000000_metadata.json\n",
            "Saved /content/drive/MyDrive/SSGP_L8G/History/L8_NDVI_20170224T000000.npy /content/drive/MyDrive/SSGP_L8G/History/L8_NDVI_20170224T000000_metadata.json\n",
            "Saved /content/drive/MyDrive/SSGP_L8G/History/L8_NDVI_20170328T000000.npy /content/drive/MyDrive/SSGP_L8G/History/L8_NDVI_20170328T000000_metadata.json\n",
            "Saved /content/drive/MyDrive/SSGP_L8G/History/L8_NDVI_20170413T000000.npy /content/drive/MyDrive/SSGP_L8G/History/L8_NDVI_20170413T000000_metadata.json\n",
            "Saved /content/drive/MyDrive/SSGP_L8G/History/L8_NDVI_20170420T000000.npy /content/drive/MyDrive/SSGP_L8G/History/L8_NDVI_20170420T000000_metadata.json\n",
            "Saved /content/drive/MyDrive/SSGP_L8G/History/L8_NDVI_20170429T000000.npy /content/drive/MyDrive/SSGP_L8G/History/L8_NDVI_20170429T000000_metadata.json\n",
            "Saved /content/drive/MyDrive/SSGP_L8G/History/L8_NDVI_20170515T000000.npy /content/drive/MyDrive/SSGP_L8G/History/L8_NDVI_20170515T000000_metadata.json\n",
            "Saved /content/drive/MyDrive/SSGP_L8G/History/L8_NDVI_20170522T000000.npy /content/drive/MyDrive/SSGP_L8G/History/L8_NDVI_20170522T000000_metadata.json\n",
            "Saved /content/drive/MyDrive/SSGP_L8G/History/L8_NDVI_20170616T000000.npy /content/drive/MyDrive/SSGP_L8G/History/L8_NDVI_20170616T000000_metadata.json\n",
            "Saved /content/drive/MyDrive/SSGP_L8G/History/L8_NDVI_20170623T000000.npy /content/drive/MyDrive/SSGP_L8G/History/L8_NDVI_20170623T000000_metadata.json\n",
            "Saved /content/drive/MyDrive/SSGP_L8G/History/L8_NDVI_20170718T000000.npy /content/drive/MyDrive/SSGP_L8G/History/L8_NDVI_20170718T000000_metadata.json\n",
            "Saved /content/drive/MyDrive/SSGP_L8G/History/L8_NDVI_20170803T000000.npy /content/drive/MyDrive/SSGP_L8G/History/L8_NDVI_20170803T000000_metadata.json\n",
            "Saved /content/drive/MyDrive/SSGP_L8G/History/L8_NDVI_20170826T000000.npy /content/drive/MyDrive/SSGP_L8G/History/L8_NDVI_20170826T000000_metadata.json\n",
            "Saved /content/drive/MyDrive/SSGP_L8G/History/L8_NDVI_20170920T000000.npy /content/drive/MyDrive/SSGP_L8G/History/L8_NDVI_20170920T000000_metadata.json\n",
            "Saved /content/drive/MyDrive/SSGP_L8G/History/L8_NDVI_20171006T000000.npy /content/drive/MyDrive/SSGP_L8G/History/L8_NDVI_20171006T000000_metadata.json\n",
            "Saved /content/drive/MyDrive/SSGP_L8G/History/L8_NDVI_20171013T000000.npy /content/drive/MyDrive/SSGP_L8G/History/L8_NDVI_20171013T000000_metadata.json\n",
            "Saved /content/drive/MyDrive/SSGP_L8G/History/L8_NDVI_20171114T000000.npy /content/drive/MyDrive/SSGP_L8G/History/L8_NDVI_20171114T000000_metadata.json\n",
            "Saved /content/drive/MyDrive/SSGP_L8G/History/L8_NDVI_20180202T000000.npy /content/drive/MyDrive/SSGP_L8G/History/L8_NDVI_20180202T000000_metadata.json\n",
            "Saved /content/drive/MyDrive/SSGP_L8G/History/L8_NDVI_20180227T000000.npy /content/drive/MyDrive/SSGP_L8G/History/L8_NDVI_20180227T000000_metadata.json\n",
            "Saved /content/drive/MyDrive/SSGP_L8G/History/L8_NDVI_20180322T000000.npy /content/drive/MyDrive/SSGP_L8G/History/L8_NDVI_20180322T000000_metadata.json\n",
            "Saved /content/drive/MyDrive/SSGP_L8G/History/L8_NDVI_20180407T000000.npy /content/drive/MyDrive/SSGP_L8G/History/L8_NDVI_20180407T000000_metadata.json\n",
            "Saved /content/drive/MyDrive/SSGP_L8G/History/L8_NDVI_20180518T000000.npy /content/drive/MyDrive/SSGP_L8G/History/L8_NDVI_20180518T000000_metadata.json\n",
            "Saved /content/drive/MyDrive/SSGP_L8G/History/L8_NDVI_20180619T000000.npy /content/drive/MyDrive/SSGP_L8G/History/L8_NDVI_20180619T000000_metadata.json\n",
            "Saved /content/drive/MyDrive/SSGP_L8G/History/L8_NDVI_20180626T000000.npy /content/drive/MyDrive/SSGP_L8G/History/L8_NDVI_20180626T000000_metadata.json\n",
            "Saved /content/drive/MyDrive/SSGP_L8G/History/L8_NDVI_20180806T000000.npy /content/drive/MyDrive/SSGP_L8G/History/L8_NDVI_20180806T000000_metadata.json\n",
            "Saved /content/drive/MyDrive/SSGP_L8G/History/L8_NDVI_20180930T000000.npy /content/drive/MyDrive/SSGP_L8G/History/L8_NDVI_20180930T000000_metadata.json\n",
            "Saved /content/drive/MyDrive/SSGP_L8G/History/L8_NDVI_20181016T000000.npy /content/drive/MyDrive/SSGP_L8G/History/L8_NDVI_20181016T000000_metadata.json\n",
            "Saved /content/drive/MyDrive/SSGP_L8G/History/L8_NDVI_20181025T000000.npy /content/drive/MyDrive/SSGP_L8G/History/L8_NDVI_20181025T000000_metadata.json\n",
            "Saved /content/drive/MyDrive/SSGP_L8G/History/L8_NDVI_20181101T000000.npy /content/drive/MyDrive/SSGP_L8G/History/L8_NDVI_20181101T000000_metadata.json\n",
            "Saved /content/drive/MyDrive/SSGP_L8G/History/L8_NDVI_20181212T000000.npy /content/drive/MyDrive/SSGP_L8G/History/L8_NDVI_20181212T000000_metadata.json\n",
            "Saved /content/drive/MyDrive/SSGP_L8G/History/L8_NDVI_20190104T000000.npy /content/drive/MyDrive/SSGP_L8G/History/L8_NDVI_20190104T000000_metadata.json\n",
            "Saved /content/drive/MyDrive/SSGP_L8G/History/L8_NDVI_20190205T000000.npy /content/drive/MyDrive/SSGP_L8G/History/L8_NDVI_20190205T000000_metadata.json\n",
            "Saved /content/drive/MyDrive/SSGP_L8G/History/L8_NDVI_20190214T000000.npy /content/drive/MyDrive/SSGP_L8G/History/L8_NDVI_20190214T000000_metadata.json\n",
            "Saved /content/drive/MyDrive/SSGP_L8G/History/L8_NDVI_20190221T000000.npy /content/drive/MyDrive/SSGP_L8G/History/L8_NDVI_20190221T000000_metadata.json\n",
            "Saved /content/drive/MyDrive/SSGP_L8G/History/L8_NDVI_20190325T000000.npy /content/drive/MyDrive/SSGP_L8G/History/L8_NDVI_20190325T000000_metadata.json\n",
            "Saved /content/drive/MyDrive/SSGP_L8G/History/L8_NDVI_20190613T000000.npy /content/drive/MyDrive/SSGP_L8G/History/L8_NDVI_20190613T000000_metadata.json\n",
            "Saved /content/drive/MyDrive/SSGP_L8G/History/L8_NDVI_20190629T000000.npy /content/drive/MyDrive/SSGP_L8G/History/L8_NDVI_20190629T000000_metadata.json\n",
            "Saved /content/drive/MyDrive/SSGP_L8G/History/L8_NDVI_20190724T000000.npy /content/drive/MyDrive/SSGP_L8G/History/L8_NDVI_20190724T000000_metadata.json\n",
            "Saved /content/drive/MyDrive/SSGP_L8G/History/L8_NDVI_20190809T000000.npy /content/drive/MyDrive/SSGP_L8G/History/L8_NDVI_20190809T000000_metadata.json\n",
            "Saved /content/drive/MyDrive/SSGP_L8G/History/L8_NDVI_20190825T000000.npy /content/drive/MyDrive/SSGP_L8G/History/L8_NDVI_20190825T000000_metadata.json\n",
            "Saved /content/drive/MyDrive/SSGP_L8G/History/L8_NDVI_20190917T000000.npy /content/drive/MyDrive/SSGP_L8G/History/L8_NDVI_20190917T000000_metadata.json\n",
            "Saved /content/drive/MyDrive/SSGP_L8G/History/L8_NDVI_20191003T000000.npy /content/drive/MyDrive/SSGP_L8G/History/L8_NDVI_20191003T000000_metadata.json\n",
            "Saved /content/drive/MyDrive/SSGP_L8G/History/L8_NDVI_20191231T000000.npy /content/drive/MyDrive/SSGP_L8G/History/L8_NDVI_20191231T000000_metadata.json\n",
            "Saved /content/drive/MyDrive/SSGP_L8G/History/L8_NDVI_20200107T000000.npy /content/drive/MyDrive/SSGP_L8G/History/L8_NDVI_20200107T000000_metadata.json\n",
            "Saved /content/drive/MyDrive/SSGP_L8G/History/L8_NDVI_20200116T000000.npy /content/drive/MyDrive/SSGP_L8G/History/L8_NDVI_20200116T000000_metadata.json\n",
            "Saved /content/drive/MyDrive/SSGP_L8G/History/L8_NDVI_20200224T000000.npy /content/drive/MyDrive/SSGP_L8G/History/L8_NDVI_20200224T000000_metadata.json\n",
            "Saved /content/drive/MyDrive/SSGP_L8G/History/L8_NDVI_20200327T000000.npy /content/drive/MyDrive/SSGP_L8G/History/L8_NDVI_20200327T000000_metadata.json\n",
            "Saved /content/drive/MyDrive/SSGP_L8G/History/L8_NDVI_20200405T000000.npy /content/drive/MyDrive/SSGP_L8G/History/L8_NDVI_20200405T000000_metadata.json\n",
            "Saved /content/drive/MyDrive/SSGP_L8G/History/L8_NDVI_20200412T000000.npy /content/drive/MyDrive/SSGP_L8G/History/L8_NDVI_20200412T000000_metadata.json\n",
            "Saved /content/drive/MyDrive/SSGP_L8G/History/L8_NDVI_20200507T000000.npy /content/drive/MyDrive/SSGP_L8G/History/L8_NDVI_20200507T000000_metadata.json\n",
            "Saved /content/drive/MyDrive/SSGP_L8G/History/L8_NDVI_20200530T000000.npy /content/drive/MyDrive/SSGP_L8G/History/L8_NDVI_20200530T000000_metadata.json\n",
            "Saved /content/drive/MyDrive/SSGP_L8G/History/L8_NDVI_20200624T000000.npy /content/drive/MyDrive/SSGP_L8G/History/L8_NDVI_20200624T000000_metadata.json\n",
            "Saved /content/drive/MyDrive/SSGP_L8G/History/L8_NDVI_20200701T000000.npy /content/drive/MyDrive/SSGP_L8G/History/L8_NDVI_20200701T000000_metadata.json\n",
            "Saved /content/drive/MyDrive/SSGP_L8G/History/L8_NDVI_20200811T000000.npy /content/drive/MyDrive/SSGP_L8G/History/L8_NDVI_20200811T000000_metadata.json\n",
            "Saved /content/drive/MyDrive/SSGP_L8G/History/L8_NDVI_20200827T000000.npy /content/drive/MyDrive/SSGP_L8G/History/L8_NDVI_20200827T000000_metadata.json\n",
            "Saved /content/drive/MyDrive/SSGP_L8G/History/L8_NDVI_20200912T000000.npy /content/drive/MyDrive/SSGP_L8G/History/L8_NDVI_20200912T000000_metadata.json\n",
            "Saved /content/drive/MyDrive/SSGP_L8G/History/L8_NDVI_20210118T000000.npy /content/drive/MyDrive/SSGP_L8G/History/L8_NDVI_20210118T000000_metadata.json\n",
            "Saved /content/drive/MyDrive/SSGP_L8G/History/L8_NDVI_20210219T000000.npy /content/drive/MyDrive/SSGP_L8G/History/L8_NDVI_20210219T000000_metadata.json\n",
            "Saved /content/drive/MyDrive/SSGP_L8G/History/L8_NDVI_20210226T000000.npy /content/drive/MyDrive/SSGP_L8G/History/L8_NDVI_20210226T000000_metadata.json\n",
            "Saved /content/drive/MyDrive/SSGP_L8G/History/L8_NDVI_20210323T000000.npy /content/drive/MyDrive/SSGP_L8G/History/L8_NDVI_20210323T000000_metadata.json\n",
            "Saved /content/drive/MyDrive/SSGP_L8G/History/L8_NDVI_20210330T000000.npy /content/drive/MyDrive/SSGP_L8G/History/L8_NDVI_20210330T000000_metadata.json\n",
            "Saved /content/drive/MyDrive/SSGP_L8G/History/L8_NDVI_20210408T000000.npy /content/drive/MyDrive/SSGP_L8G/History/L8_NDVI_20210408T000000_metadata.json\n",
            "Saved /content/drive/MyDrive/SSGP_L8G/History/L8_NDVI_20210415T000000.npy /content/drive/MyDrive/SSGP_L8G/History/L8_NDVI_20210415T000000_metadata.json\n",
            "Saved /content/drive/MyDrive/SSGP_L8G/History/L8_NDVI_20210424T000000.npy /content/drive/MyDrive/SSGP_L8G/History/L8_NDVI_20210424T000000_metadata.json\n",
            "Saved /content/drive/MyDrive/SSGP_L8G/History/L8_NDVI_20210611T000000.npy /content/drive/MyDrive/SSGP_L8G/History/L8_NDVI_20210611T000000_metadata.json\n",
            "Saved /content/drive/MyDrive/SSGP_L8G/History/L8_NDVI_20210618T000000.npy /content/drive/MyDrive/SSGP_L8G/History/L8_NDVI_20210618T000000_metadata.json\n",
            "Saved /content/drive/MyDrive/SSGP_L8G/History/L8_NDVI_20210627T000000.npy /content/drive/MyDrive/SSGP_L8G/History/L8_NDVI_20210627T000000_metadata.json\n",
            "Saved /content/drive/MyDrive/SSGP_L8G/History/L8_NDVI_20210720T000000.npy /content/drive/MyDrive/SSGP_L8G/History/L8_NDVI_20210720T000000_metadata.json\n",
            "Saved /content/drive/MyDrive/SSGP_L8G/History/L8_NDVI_20210729T000000.npy /content/drive/MyDrive/SSGP_L8G/History/L8_NDVI_20210729T000000_metadata.json\n",
            "Saved /content/drive/MyDrive/SSGP_L8G/History/L8_NDVI_20210814T000000.npy /content/drive/MyDrive/SSGP_L8G/History/L8_NDVI_20210814T000000_metadata.json\n",
            "Saved /content/drive/MyDrive/SSGP_L8G/History/L8_NDVI_20210821T000000.npy /content/drive/MyDrive/SSGP_L8G/History/L8_NDVI_20210821T000000_metadata.json\n",
            "Saved /content/drive/MyDrive/SSGP_L8G/History/L8_NDVI_20210830T000000.npy /content/drive/MyDrive/SSGP_L8G/History/L8_NDVI_20210830T000000_metadata.json\n",
            "Saved /content/drive/MyDrive/SSGP_L8G/History/L8_NDVI_20210906T000000.npy /content/drive/MyDrive/SSGP_L8G/History/L8_NDVI_20210906T000000_metadata.json\n",
            "Saved /content/drive/MyDrive/SSGP_L8G/History/L8_NDVI_20210922T000000.npy /content/drive/MyDrive/SSGP_L8G/History/L8_NDVI_20210922T000000_metadata.json\n",
            "Saved /content/drive/MyDrive/SSGP_L8G/History/L8_NDVI_20211001T000000.npy /content/drive/MyDrive/SSGP_L8G/History/L8_NDVI_20211001T000000_metadata.json\n",
            "Saved /content/drive/MyDrive/SSGP_L8G/History/L8_NDVI_20211017T000000.npy /content/drive/MyDrive/SSGP_L8G/History/L8_NDVI_20211017T000000_metadata.json\n",
            "Saved /content/drive/MyDrive/SSGP_L8G/History/L8_NDVI_20211024T000000.npy /content/drive/MyDrive/SSGP_L8G/History/L8_NDVI_20211024T000000_metadata.json\n",
            "Saved /content/drive/MyDrive/SSGP_L8G/History/L8_NDVI_20220112T000000.npy /content/drive/MyDrive/SSGP_L8G/History/L8_NDVI_20220112T000000_metadata.json\n",
            "Saved /content/drive/MyDrive/SSGP_L8G/History/L8_NDVI_20220121T000000.npy /content/drive/MyDrive/SSGP_L8G/History/L8_NDVI_20220121T000000_metadata.json\n",
            "Saved /content/drive/MyDrive/SSGP_L8G/History/L8_NDVI_20220128T000000.npy /content/drive/MyDrive/SSGP_L8G/History/L8_NDVI_20220128T000000_metadata.json\n",
            "Saved /content/drive/MyDrive/SSGP_L8G/History/L8_NDVI_20220213T000000.npy /content/drive/MyDrive/SSGP_L8G/History/L8_NDVI_20220213T000000_metadata.json\n",
            "Saved /content/drive/MyDrive/SSGP_L8G/History/L8_NDVI_20220301T000000.npy /content/drive/MyDrive/SSGP_L8G/History/L8_NDVI_20220301T000000_metadata.json\n",
            "Saved /content/drive/MyDrive/SSGP_L8G/History/L8_NDVI_20220310T000000.npy /content/drive/MyDrive/SSGP_L8G/History/L8_NDVI_20220310T000000_metadata.json\n",
            "Saved /content/drive/MyDrive/SSGP_L8G/History/L8_NDVI_20220326T000000.npy /content/drive/MyDrive/SSGP_L8G/History/L8_NDVI_20220326T000000_metadata.json\n",
            "Saved /content/drive/MyDrive/SSGP_L8G/History/L8_NDVI_20220418T000000.npy /content/drive/MyDrive/SSGP_L8G/History/L8_NDVI_20220418T000000_metadata.json\n",
            "Saved /content/drive/MyDrive/SSGP_L8G/History/L8_NDVI_20220427T000000.npy /content/drive/MyDrive/SSGP_L8G/History/L8_NDVI_20220427T000000_metadata.json\n",
            "Saved /content/drive/MyDrive/SSGP_L8G/History/L8_NDVI_20220520T000000.npy /content/drive/MyDrive/SSGP_L8G/History/L8_NDVI_20220520T000000_metadata.json\n",
            "Saved /content/drive/MyDrive/SSGP_L8G/History/L8_NDVI_20220707T000000.npy /content/drive/MyDrive/SSGP_L8G/History/L8_NDVI_20220707T000000_metadata.json\n",
            "Saved /content/drive/MyDrive/SSGP_L8G/History/L8_NDVI_20220716T000000.npy /content/drive/MyDrive/SSGP_L8G/History/L8_NDVI_20220716T000000_metadata.json\n",
            "Saved /content/drive/MyDrive/SSGP_L8G/History/L8_NDVI_20220801T000000.npy /content/drive/MyDrive/SSGP_L8G/History/L8_NDVI_20220801T000000_metadata.json\n",
            "Saved /content/drive/MyDrive/SSGP_L8G/History/L8_NDVI_20220808T000000.npy /content/drive/MyDrive/SSGP_L8G/History/L8_NDVI_20220808T000000_metadata.json\n",
            "Saved /content/drive/MyDrive/SSGP_L8G/History/L8_NDVI_20220902T000000.npy /content/drive/MyDrive/SSGP_L8G/History/L8_NDVI_20220902T000000_metadata.json\n",
            "Saved /content/drive/MyDrive/SSGP_L8G/History/L8_NDVI_20220918T000000.npy /content/drive/MyDrive/SSGP_L8G/History/L8_NDVI_20220918T000000_metadata.json\n",
            "Saved /content/drive/MyDrive/SSGP_L8G/History/L8_NDVI_20221004T000000.npy /content/drive/MyDrive/SSGP_L8G/History/L8_NDVI_20221004T000000_metadata.json\n",
            "Saved /content/drive/MyDrive/SSGP_L8G/History/L8_NDVI_20221011T000000.npy /content/drive/MyDrive/SSGP_L8G/History/L8_NDVI_20221011T000000_metadata.json\n",
            "Saved /content/drive/MyDrive/SSGP_L8G/History/L8_NDVI_20221027T000000.npy /content/drive/MyDrive/SSGP_L8G/History/L8_NDVI_20221027T000000_metadata.json\n",
            "Saved /content/drive/MyDrive/SSGP_L8G/History/L8_NDVI_20221121T000000.npy /content/drive/MyDrive/SSGP_L8G/History/L8_NDVI_20221121T000000_metadata.json\n",
            "Saved /content/drive/MyDrive/SSGP_L8G/History/L8_NDVI_20230124T000000.npy /content/drive/MyDrive/SSGP_L8G/History/L8_NDVI_20230124T000000_metadata.json\n",
            "Saved /content/drive/MyDrive/SSGP_L8G/History/L8_NDVI_20230131T000000.npy /content/drive/MyDrive/SSGP_L8G/History/L8_NDVI_20230131T000000_metadata.json\n",
            "Saved /content/drive/MyDrive/SSGP_L8G/History/L8_NDVI_20230209T000000.npy /content/drive/MyDrive/SSGP_L8G/History/L8_NDVI_20230209T000000_metadata.json\n",
            "Saved /content/drive/MyDrive/SSGP_L8G/History/L8_NDVI_20230216T000000.npy /content/drive/MyDrive/SSGP_L8G/History/L8_NDVI_20230216T000000_metadata.json\n",
            "Saved /content/drive/MyDrive/SSGP_L8G/History/L8_NDVI_20230225T000000.npy /content/drive/MyDrive/SSGP_L8G/History/L8_NDVI_20230225T000000_metadata.json\n",
            "Saved /content/drive/MyDrive/SSGP_L8G/History/L8_NDVI_20230304T000000.npy /content/drive/MyDrive/SSGP_L8G/History/L8_NDVI_20230304T000000_metadata.json\n",
            "Saved /content/drive/MyDrive/SSGP_L8G/History/L8_NDVI_20230313T000000.npy /content/drive/MyDrive/SSGP_L8G/History/L8_NDVI_20230313T000000_metadata.json\n",
            "Saved /content/drive/MyDrive/SSGP_L8G/History/L8_NDVI_20230405T000000.npy /content/drive/MyDrive/SSGP_L8G/History/L8_NDVI_20230405T000000_metadata.json\n",
            "Saved /content/drive/MyDrive/SSGP_L8G/History/L8_NDVI_20230414T000000.npy /content/drive/MyDrive/SSGP_L8G/History/L8_NDVI_20230414T000000_metadata.json\n",
            "Saved /content/drive/MyDrive/SSGP_L8G/History/L8_NDVI_20230601T000000.npy /content/drive/MyDrive/SSGP_L8G/History/L8_NDVI_20230601T000000_metadata.json\n",
            "Saved /content/drive/MyDrive/SSGP_L8G/History/L8_NDVI_20230617T000000.npy /content/drive/MyDrive/SSGP_L8G/History/L8_NDVI_20230617T000000_metadata.json\n",
            "Saved /content/drive/MyDrive/SSGP_L8G/History/L8_NDVI_20230624T000000.npy /content/drive/MyDrive/SSGP_L8G/History/L8_NDVI_20230624T000000_metadata.json\n",
            "Saved /content/drive/MyDrive/SSGP_L8G/History/L8_NDVI_20230811T000000.npy /content/drive/MyDrive/SSGP_L8G/History/L8_NDVI_20230811T000000_metadata.json\n",
            "Saved /content/drive/MyDrive/SSGP_L8G/History/L8_NDVI_20230905T000000.npy /content/drive/MyDrive/SSGP_L8G/History/L8_NDVI_20230905T000000_metadata.json\n",
            "Saved /content/drive/MyDrive/SSGP_L8G/History/L8_NDVI_20230912T000000.npy /content/drive/MyDrive/SSGP_L8G/History/L8_NDVI_20230912T000000_metadata.json\n",
            "Saved /content/drive/MyDrive/SSGP_L8G/History/L8_NDVI_20231007T000000.npy /content/drive/MyDrive/SSGP_L8G/History/L8_NDVI_20231007T000000_metadata.json\n",
            "Saved /content/drive/MyDrive/SSGP_L8G/Inputs/L8_NDVI_20130418T000000.npy /content/drive/MyDrive/SSGP_L8G/Inputs/L8_NDVI_20130418T000000_metadata.json\n",
            "Saved /content/drive/MyDrive/SSGP_L8G/Inputs/L8_NDVI_20130925T000000.npy /content/drive/MyDrive/SSGP_L8G/Inputs/L8_NDVI_20130925T000000_metadata.json\n",
            "Saved /content/drive/MyDrive/SSGP_L8G/Inputs/L8_NDVI_20180525T000000.npy /content/drive/MyDrive/SSGP_L8G/Inputs/L8_NDVI_20180525T000000_metadata.json\n",
            "Saved /content/drive/MyDrive/SSGP_L8G/Inputs/L8_NDVI_20181009T000000.npy /content/drive/MyDrive/SSGP_L8G/Inputs/L8_NDVI_20181009T000000_metadata.json\n",
            "Saved /content/drive/MyDrive/SSGP_L8G/Inputs/L8_NDVI_20230523T000000.npy /content/drive/MyDrive/SSGP_L8G/Inputs/L8_NDVI_20230523T000000_metadata.json\n",
            "Saved /content/drive/MyDrive/SSGP_L8G/Inputs/L8_NDVI_20231108T000000.npy /content/drive/MyDrive/SSGP_L8G/Inputs/L8_NDVI_20231108T000000_metadata.json\n"
          ]
        }
      ]
    },
    {
      "cell_type": "code",
      "source": [
        "# Convert biome to Extra (if it exists)\n",
        "if os.path.exists(BIOME_FILENAME):\n",
        "    out_extra = os.path.join(ROOT_DRIVE_PATH, 'Extra')\n",
        "    os.makedirs(out_extra, exist_ok=True)\n",
        "    biome_npy, _ = geotiff_to_npy_and_metadata(BIOME_FILENAME, out_extra, EXTENT, RESOLUTION, KEY_VALUES)\n",
        "    # Rename Extra npy to expected name Extra.npy\n",
        "    biome_base = os.path.splitext(os.path.basename(biome_npy))[0]\n",
        "    extra_dst = os.path.join(out_extra, 'Extra.npy')\n",
        "    shutil.copy(biome_npy, extra_dst)\n",
        "    print('Biome converted and saved as', extra_dst)\n",
        "else:\n",
        "    print('No biome file found in extra; SSGP Biome mode will fail unless Extra/Extra.npy exists.')"
      ],
      "metadata": {
        "id": "G2XmQGQqNLz8",
        "colab": {
          "base_uri": "https://localhost:8080/"
        },
        "outputId": "64511f31-b512-4f49-f8e2-0f50f5aa3860"
      },
      "execution_count": null,
      "outputs": [
        {
          "output_type": "stream",
          "name": "stdout",
          "text": [
            "Biome converted and saved as /content/drive/MyDrive/SSGP_L8G/Extra/Extra.npy\n"
          ]
        }
      ]
    },
    {
      "cell_type": "markdown",
      "source": [
        "# Gapfilling"
      ],
      "metadata": {
        "id": "Wh2xKe-0NO7v"
      }
    },
    {
      "cell_type": "code",
      "source": [
        "# The SSGP toolbox expects a project directory with subfolders 'History', 'Inputs', 'Extra'.\n",
        "PROJECT_DIR = ROOT_DRIVE_PATH # it already contains History, Inputs, Extra subfolders now"
      ],
      "metadata": {
        "id": "AWi84FFQNUdi"
      },
      "execution_count": 63,
      "outputs": []
    },
    {
      "cell_type": "code",
      "source": [
        "# Instantiate the gapfiller\n",
        "try:\n",
        "    from SSGPToolbox.gapfiller import SimpleSpatialGapfiller\n",
        "except Exception as e:\n",
        "    print('Failed to import SimpleSpatialGapfiller from installed toolbox. Ensure the toolbox is installed and import path matches.')\n",
        "    print(e)\n",
        "# Run fill_gaps with specified options\n",
        "SimpleSpatialGapfiller.fill_gaps(method=SSGP_METHOD,\n",
        "                    predictor_configuration=PREDICTOR_CONFIG,\n",
        "                    hyperparameters=HYPERPARAMS,\n",
        "                    params=None,\n",
        "                    add_outputs=ADD_OUTPUTS_TO_HISTORY,\n",
        "                    key_values=KEY_VALUES)\n",
        "# Outputs saved to PROJECT_DIR/Outputs by the class. Move them to FILLED_DIR and also export as GeoTIFF using metadata\n",
        "outputs_dir = os.path.join(PROJECT_DIR, 'Outputs')\n",
        "if not os.path.exists(outputs_dir):\n",
        "    print('No Outputs folder found. Did the gapfiller run successfully?')\n",
        "else:\n",
        "    os.makedirs(FILLED_DIR, exist_ok=True)\n",
        "    # For each .npy in Outputs, write a GeoTIFF using the corresponding metadata json produced earlier\n",
        "    for f in sorted(glob(os.path.join(outputs_dir, '*.npy'))):\n",
        "        base = os.path.splitext(os.path.basename(f))[0]\n",
        "        out_npy = os.path.join(FILLED_DIR, os.path.basename(f))\n",
        "        shutil.copy(f, out_npy)\n",
        "        # Try to find metadata file in History/Inputs (we saved metadata alongside input npys earlier)\n",
        "        meta_candidate = os.path.join(PROJECT_DIR, 'History', base + '_metadata.json')\n",
        "        if not os.path.exists(meta_candidate):\n",
        "            meta_candidate = os.path.join(PROJECT_DIR, 'Inputs', base + '_metadata.json')\n",
        "        if os.path.exists(meta_candidate):\n",
        "            with open(meta_candidate, 'r') as mf:\n",
        "                meta = json.load(mf)\n",
        "            # reconstruct geotiff from meta and npy\n",
        "            arr = np.load(f)\n",
        "            utm_code = meta.get('utm_code')\n",
        "            utm_ext = meta.get('utm_extent')\n",
        "            res = meta.get('resolution')\n",
        "            xres = res['xRes']; yres = res['yRes']\n",
        "            minx = utm_ext['minX']; maxy = utm_ext['maxY']\n",
        "            width = arr.shape[1]; height = arr.shape[0]\n",
        "            transform = rasterio.transform.from_origin(minx, maxy, xres, yres)\n",
        "            profile = {\n",
        "                'driver': 'GTiff',\n",
        "                'height': height,\n",
        "                'width': width,\n",
        "                'count': 1,\n",
        "                'dtype': 'float32',\n",
        "                'crs': f'EPSG:{utm_code}',\n",
        "                'transform': transform\n",
        "            }\n",
        "            out_tif = os.path.join(FILLED_DIR, base + '.tif')\n",
        "            with rasterio.open(out_tif, 'w', **profile) as dst:\n",
        "                dst.write(arr.astype(np.float32), 1)\n",
        "            print('Saved filled GeoTIFF:', out_tif)\n",
        "        else:\n",
        "            print('Metadata not found for', base, '— saved only .npy')\n",
        "\n",
        "\n",
        "print('ALL DONE. Filled files are in', FILLED_DIR)"
      ],
      "metadata": {
        "id": "Zb48jVSmNYd6",
        "colab": {
          "base_uri": "https://localhost:8080/",
          "height": 221
        },
        "outputId": "909a3b7a-9a46-4c80-c947-ca9a636035d7"
      },
      "execution_count": 67,
      "outputs": [
        {
          "output_type": "error",
          "ename": "TypeError",
          "evalue": "SimpleSpatialGapfiller.fill_gaps() missing 1 required positional argument: 'self'",
          "traceback": [
            "\u001b[0;31m---------------------------------------------------------------------------\u001b[0m",
            "\u001b[0;31mTypeError\u001b[0m                                 Traceback (most recent call last)",
            "\u001b[0;32m/tmp/ipython-input-315577075.py\u001b[0m in \u001b[0;36m<cell line: 0>\u001b[0;34m()\u001b[0m\n\u001b[1;32m      6\u001b[0m     \u001b[0mprint\u001b[0m\u001b[0;34m(\u001b[0m\u001b[0me\u001b[0m\u001b[0;34m)\u001b[0m\u001b[0;34m\u001b[0m\u001b[0;34m\u001b[0m\u001b[0m\n\u001b[1;32m      7\u001b[0m \u001b[0;31m# Run fill_gaps with specified options\u001b[0m\u001b[0;34m\u001b[0m\u001b[0;34m\u001b[0m\u001b[0m\n\u001b[0;32m----> 8\u001b[0;31m SimpleSpatialGapfiller.fill_gaps(method=SSGP_METHOD,\n\u001b[0m\u001b[1;32m      9\u001b[0m                     \u001b[0mpredictor_configuration\u001b[0m\u001b[0;34m=\u001b[0m\u001b[0mPREDICTOR_CONFIG\u001b[0m\u001b[0;34m,\u001b[0m\u001b[0;34m\u001b[0m\u001b[0;34m\u001b[0m\u001b[0m\n\u001b[1;32m     10\u001b[0m                     \u001b[0mhyperparameters\u001b[0m\u001b[0;34m=\u001b[0m\u001b[0mHYPERPARAMS\u001b[0m\u001b[0;34m,\u001b[0m\u001b[0;34m\u001b[0m\u001b[0;34m\u001b[0m\u001b[0m\n",
            "\u001b[0;31mTypeError\u001b[0m: SimpleSpatialGapfiller.fill_gaps() missing 1 required positional argument: 'self'"
          ]
        }
      ]
    },
    {
      "cell_type": "code",
      "source": [
        "# Importer correctement\n",
        "try:\n",
        "    from SSGPToolbox.gapfiller import SimpleSpatialGapfiller\n",
        "except Exception as e:\n",
        "    print('Failed to import SimpleSpatialGapfiller from installed toolbox. Ensure the toolbox is installed and import path matches.')\n",
        "    print(e)\n",
        "\n",
        "# Créer l'objet gapfiller\n",
        "gapfiller = SimpleSpatialGapfiller(\n",
        "    project_dir=PROJECT_DIR,     # chemin vers ton dossier projet\n",
        "    key_values=KEY_VALUES,       # valeurs clés pour gap / skip / nodata\n",
        "    add_outputs_to_history=ADD_OUTPUTS_TO_HISTORY  # True ou False selon ton choix\n",
        ")\n",
        "\n",
        "# Lancer le gap filling\n",
        "gapfiller.fill_gaps(\n",
        "    method=SSGP_METHOD,\n",
        "    predictor_configuration=PREDICTOR_CONFIG,\n",
        "    hyperparameters=HYPERPARAMS,\n",
        "    params=None\n",
        ")\n",
        "\n",
        "# Ensuite le reste de ton script pour copier les outputs .npy et reconstruire les GeoTIFF reste inchangé\n",
        "outputs_dir = os.path.join(PROJECT_DIR, 'Outputs')\n",
        "if not os.path.exists(outputs_dir):\n",
        "    print('No Outputs folder found. Did the gapfiller run successfully?')\n",
        "else:\n",
        "    os.makedirs(FILLED_DIR, exist_ok=True)\n",
        "    for f in sorted(glob(os.path.join(outputs_dir, '*.npy'))):\n",
        "        base = os.path.splitext(os.path.basename(f))[0]\n",
        "        out_npy = os.path.join(FILLED_DIR, os.path.basename(f))\n",
        "        shutil.copy(f, out_npy)\n",
        "\n",
        "        meta_candidate = os.path.join(PROJECT_DIR, 'History', base + '_metadata.json')\n",
        "        if not os.path.exists(meta_candidate):\n",
        "            meta_candidate = os.path.join(PROJECT_DIR, 'Inputs', base + '_metadata.json')\n",
        "\n",
        "        if os.path.exists(meta_candidate):\n",
        "            with open(meta_candidate, 'r') as mf:\n",
        "                meta = json.load(mf)\n",
        "            arr = np.load(f)\n",
        "            utm_code = meta.get('utm_code')\n",
        "            utm_ext = meta.get('utm_extent')\n",
        "            res = meta.get('resolution')\n",
        "            xres = res['xRes']; yres = res['yRes']\n",
        "            minx = utm_ext['minX']; maxy = utm_ext['maxY']\n",
        "            width = arr.shape[1]; height = arr.shape[0]\n",
        "            transform = rasterio.transform.from_origin(minx, maxy, xres, yres)\n",
        "            profile = {\n",
        "                'driver': 'GTiff',\n",
        "                'height': height,\n",
        "                'width': width,\n",
        "                'count': 1,\n",
        "                'dtype': 'float32',\n",
        "                'crs': f'EPSG:{utm_code}',\n",
        "                'transform': transform\n",
        "            }\n",
        "            out_tif = os.path.join(FILLED_DIR, base + '.tif')\n",
        "            with rasterio.open(out_tif, 'w', **profile) as dst:\n",
        "                dst.write(arr.astype(np.float32), 1)\n",
        "            print('Saved filled GeoTIFF:', out_tif)\n",
        "        else:\n",
        "            print('Metadata not found for', base, '— saved only .npy')\n",
        "\n",
        "print('ALL DONE. Filled files are in', FILLED_DIR)\n"
      ],
      "metadata": {
        "id": "lhz9_15yNaVn",
        "colab": {
          "base_uri": "https://localhost:8080/",
          "height": 221
        },
        "outputId": "dfc40dc4-7634-405a-9ba2-b7ccf12a164c"
      },
      "execution_count": 68,
      "outputs": [
        {
          "output_type": "error",
          "ename": "TypeError",
          "evalue": "SimpleSpatialGapfiller.__init__() got an unexpected keyword argument 'project_dir'",
          "traceback": [
            "\u001b[0;31m---------------------------------------------------------------------------\u001b[0m",
            "\u001b[0;31mTypeError\u001b[0m                                 Traceback (most recent call last)",
            "\u001b[0;32m/tmp/ipython-input-3731292696.py\u001b[0m in \u001b[0;36m<cell line: 0>\u001b[0;34m()\u001b[0m\n\u001b[1;32m      7\u001b[0m \u001b[0;34m\u001b[0m\u001b[0m\n\u001b[1;32m      8\u001b[0m \u001b[0;31m# Créer l'objet gapfiller\u001b[0m\u001b[0;34m\u001b[0m\u001b[0;34m\u001b[0m\u001b[0m\n\u001b[0;32m----> 9\u001b[0;31m gapfiller = SimpleSpatialGapfiller(\n\u001b[0m\u001b[1;32m     10\u001b[0m     \u001b[0mproject_dir\u001b[0m\u001b[0;34m=\u001b[0m\u001b[0mPROJECT_DIR\u001b[0m\u001b[0;34m,\u001b[0m     \u001b[0;31m# chemin vers ton dossier projet\u001b[0m\u001b[0;34m\u001b[0m\u001b[0;34m\u001b[0m\u001b[0m\n\u001b[1;32m     11\u001b[0m     \u001b[0mkey_values\u001b[0m\u001b[0;34m=\u001b[0m\u001b[0mKEY_VALUES\u001b[0m\u001b[0;34m,\u001b[0m       \u001b[0;31m# valeurs clés pour gap / skip / nodata\u001b[0m\u001b[0;34m\u001b[0m\u001b[0;34m\u001b[0m\u001b[0m\n",
            "\u001b[0;31mTypeError\u001b[0m: SimpleSpatialGapfiller.__init__() got an unexpected keyword argument 'project_dir'"
          ]
        }
      ]
    },
    {
      "cell_type": "code",
      "source": [
        "# Outputs saved to PROJECT_DIR/Outputs by the class. Move them to FILLED_DIR and also export as GeoTIFF using metadata\n",
        "outputs_dir = os.path.join(PROJECT_DIR, 'Outputs')\n",
        "if not os.path.exists(outputs_dir):\n",
        "    print('No Outputs folder found. Did the gapfiller run successfully?')\n",
        "else:\n",
        "    os.makedirs(FILLED_DIR, exist_ok=True)\n",
        "    # For each .npy in Outputs, write a GeoTIFF using the corresponding metadata json produced earlier\n",
        "    for f in sorted(glob(os.path.join(outputs_dir, '*.npy'))):\n",
        "        base = os.path.splitext(os.path.basename(f))[0]\n",
        "        out_npy = os.path.join(FILLED_DIR, os.path.basename(f))\n",
        "        shutil.copy(f, out_npy)\n",
        "        # Try to find metadata file in History/Inputs (we saved metadata alongside input npys earlier)\n",
        "        meta_candidate = os.path.join(PROJECT_DIR, 'History', base + '_metadata.json')\n",
        "        if not os.path.exists(meta_candidate):\n",
        "            meta_candidate = os.path.join(PROJECT_DIR, 'Inputs', base + '_metadata.json')\n",
        "        if os.path.exists(meta_candidate):\n",
        "            with open(meta_candidate, 'r') as mf:\n",
        "                meta = json.load(mf)\n",
        "            # reconstruct geotiff from meta and npy\n",
        "            arr = np.load(f)\n",
        "            utm_code = meta.get('utm_code')\n",
        "            utm_ext = meta.get('utm_extent')\n",
        "            res = meta.get('resolution')\n",
        "            xres = res['xRes']; yres = res['yRes']\n",
        "            minx = utm_ext['minX']; maxy = utm_ext['maxY']\n",
        "            width = arr.shape[1]; height = arr.shape[0]\n",
        "            transform = rasterio.transform.from_origin(minx, maxy, xres, yres)\n",
        "            profile = {\n",
        "                'driver': 'GTiff',\n",
        "                'height': height,\n",
        "                'width': width,\n",
        "                'count': 1,\n",
        "                'dtype': 'float32',\n",
        "                'crs': f'EPSG:{utm_code}',\n",
        "                'transform': transform\n",
        "            }\n",
        "            out_tif = os.path.join(FILLED_DIR, base + '.tif')\n",
        "            with rasterio.open(out_tif, 'w', **profile) as dst:\n",
        "                dst.write(arr.astype(np.float32), 1)\n",
        "            print('Saved filled GeoTIFF:', out_tif)\n",
        "        else:\n",
        "            print('Metadata not found for', base, '— saved only .npy')\n",
        "\n",
        "\n",
        "print('ALL DONE. Filled files are in', FILLED_DIR)"
      ],
      "metadata": {
        "id": "Lq58DkuBNdoQ"
      },
      "execution_count": null,
      "outputs": []
    }
  ]
}