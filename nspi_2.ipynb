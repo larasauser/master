{
  "nbformat": 4,
  "nbformat_minor": 0,
  "metadata": {
    "colab": {
      "provenance": [],
      "include_colab_link": true
    },
    "kernelspec": {
      "name": "python3",
      "display_name": "Python 3"
    },
    "language_info": {
      "name": "python"
    }
  },
  "cells": [
    {
      "cell_type": "markdown",
      "metadata": {
        "id": "view-in-github",
        "colab_type": "text"
      },
      "source": [
        "<a href=\"https://colab.research.google.com/github/larasauser/master/blob/main/nspi_2.ipynb\" target=\"_parent\"><img src=\"https://colab.research.google.com/assets/colab-badge.svg\" alt=\"Open In Colab\"/></a>"
      ]
    },
    {
      "cell_type": "markdown",
      "source": [
        "NSPI 2"
      ],
      "metadata": {
        "id": "flhOL-Y5nF0E"
      }
    },
    {
      "cell_type": "code",
      "execution_count": 3,
      "metadata": {
        "id": "_0NagVecnEGW",
        "outputId": "c5c39006-b9d2-446e-b4e2-81110cc293f1",
        "colab": {
          "base_uri": "https://localhost:8080/"
        }
      },
      "outputs": [
        {
          "output_type": "stream",
          "name": "stdout",
          "text": [
            "Requirement already satisfied: rasterio in /usr/local/lib/python3.11/dist-packages (1.4.3)\n",
            "Requirement already satisfied: affine in /usr/local/lib/python3.11/dist-packages (from rasterio) (2.4.0)\n",
            "Requirement already satisfied: attrs in /usr/local/lib/python3.11/dist-packages (from rasterio) (25.3.0)\n",
            "Requirement already satisfied: certifi in /usr/local/lib/python3.11/dist-packages (from rasterio) (2025.6.15)\n",
            "Requirement already satisfied: click>=4.0 in /usr/local/lib/python3.11/dist-packages (from rasterio) (8.2.1)\n",
            "Requirement already satisfied: cligj>=0.5 in /usr/local/lib/python3.11/dist-packages (from rasterio) (0.7.2)\n",
            "Requirement already satisfied: numpy>=1.24 in /usr/local/lib/python3.11/dist-packages (from rasterio) (2.0.2)\n",
            "Requirement already satisfied: click-plugins in /usr/local/lib/python3.11/dist-packages (from rasterio) (1.1.1.2)\n",
            "Requirement already satisfied: pyparsing in /usr/local/lib/python3.11/dist-packages (from rasterio) (3.2.3)\n",
            "Requirement already satisfied: numpy in /usr/local/lib/python3.11/dist-packages (2.0.2)\n",
            "Requirement already satisfied: opencv-python in /usr/local/lib/python3.11/dist-packages (4.11.0.86)\n",
            "Requirement already satisfied: numpy>=1.21.2 in /usr/local/lib/python3.11/dist-packages (from opencv-python) (2.0.2)\n",
            "Requirement already satisfied: tqdm in /usr/local/lib/python3.11/dist-packages (4.67.1)\n"
          ]
        }
      ],
      "source": [
        "!pip install rasterio\n",
        "!pip install numpy\n",
        "!pip install opencv-python\n",
        "!pip install tqdm"
      ]
    },
    {
      "cell_type": "code",
      "source": [
        "import numpy as np\n",
        "import rasterio\n",
        "from rasterio.plot import show\n",
        "import cv2\n",
        "import tqdm\n",
        "from math import sqrt"
      ],
      "metadata": {
        "id": "D9ztHKB6pB-x"
      },
      "execution_count": 5,
      "outputs": []
    },
    {
      "cell_type": "code",
      "source": [
        "def compute_rmsd(p1, p2):\n",
        "    return np.sqrt(np.mean(p1-p2)**2)"
      ],
      "metadata": {
        "id": "0ArJiILYppuj"
      },
      "execution_count": 7,
      "outputs": []
    },
    {
      "cell_type": "code",
      "source": [
        "def select_similar_pixels(input_patch, target_patch, gap_mask, stds, m, max_window):\n",
        "  h,w,b = input_patch.shape\n",
        "  x_c,y_c = h//2,w//2\n",
        "  target_pixel = input_patch[x_c,y_c]\n",
        "\n",
        "  similar_pixels = []\n",
        "  distance = []\n",
        "\n",
        "  for i in range(h):\n",
        "    for j in range(w):\n",
        "      if gap_mask[i,j]:\n",
        "        continue\n",
        "        candidate = input_patch[i,j]\n",
        "        rmsd = compute_rmsd(candidate, target_pixel)\n",
        "        threshold = np.sum([2*stds[k]/m for k in range(b)])/b\n",
        "        if rmsd <= threshold:\n",
        "          similar_pixels.append(((i,j),candidate))\n",
        "          distances.append(np.linalg.norm([i-x_c, j-y_c]))\n",
        "  return similar_pixels, distances"
      ],
      "metadata": {
        "id": "c4yazQU8p4xI"
      },
      "execution_count": 10,
      "outputs": []
    },
    {
      "cell_type": "code",
      "source": [
        "def predict_pixel_value(similar_pixels, distances, input_patch, target_patch, stds, m, max_window, input_central, target_central):\n",
        "  if len(similar_pixels)==0:\n",
        "    return None #use histogram matching if no similar pixel available\n",
        "\n",
        "  rmsds = [compute_rmsd(input_patch[i,j],input_central) for (i,j),_ in similar_pixels]\n",
        "  cds = 1/(np.array(cds)+1e-6)\n",
        "  weights /=weights.sum()\n",
        "\n",
        "  #Prediction L1 (eq7)\n",
        "  L1 = np.zeros_like(input_central)\n",
        "  for w, ((i.j),_) in zip(weights, similar_pixels):\n",
        "    L1 += w*target_patch[i,j]\n",
        "\n",
        "  #Prediction L2 (eq8)\n",
        "  delta = np.zeros_like(input_central)\n",
        "  for w, ((i,j),_) in zip(weights, similar_pixels):\n",
        "    delta += w * (target_patch[i,j]-input_patch[i,j])\n",
        "  L2 = input_central + delat\n",
        "\n",
        "  #Final ponderation T1,T2 (eq11)\n",
        "  R1 = np.mean([compute_rmsd(input_patch[i,j], input_central)for (i,j),_ in similar_pixels])\n",
        "  R2 = np.mean([compute_rmsd(target_patch[i,j],input_patch[i,j])for (i,j),_ in similar_pixels])\n",
        "\n",
        "  T1 = 1/R1 if R1 != 0 else 1e6\n",
        "  T2 = 1/R2 if R2 != 0 else 1e6\n",
        "  T1, T2 = T1/T_sum, T2/T_sum\n",
        "\n",
        "  return T1*L1 + T2*L2"
      ],
      "metadata": {
        "id": "pmTXatjW-RtN"
      },
      "execution_count": 11,
      "outputs": []
    },
    {
      "cell_type": "code",
      "source": [
        "def filled_gaps_nspi(target, input_shape, gap_mask, m=20, max_window =150):\n",
        "  filled = target.copy()\n",
        "  h,w,b = target.shape\n",
        "  pad = max_window//2\n",
        "  padded_target = np.pad(target, ((pad,pad),(pad,pad),(0,0)),mode='reflect')\n",
        "  padded_input = np.pad(input_image,((pad,pad),(pad,pad)(0,0)),mode='reflect')\n",
        "  padded_mask = np.pad(gap.mask,((pad,pad),(pad,pad)),mode='constant',constant_values=1)\n",
        "\n",
        "  stds = np.std(input_image[~gap_mask],axis=0)\n",
        "\n",
        "  for y in tdqm(range(pad,pad+h)):\n",
        "    for x in range(pad,pad+w):\n",
        "      if not gap_mask[y-pad,x-pad]:\n",
        "        continue\n",
        "\n",
        "      for window in range(50, max_window +2, 2):\n",
        "        r = window//2\n",
        "        input_patch = padded_input[y-r:y+r+1, x-r:x+r+1]\n",
        "        target_patch = padded_target[y-r:y+r+1, x-r:x+r+1]\n",
        "        mask_patch = padded_mask[y-r:y+r+1, x-r:x+r+1]\n",
        "\n",
        "        similar_pixels, distances = select_similar_pixels(\n",
        "            input_patch, target_patch, mask_patch, stds, m, max_window\n",
        "        )\n",
        "\n",
        "        if len(similar_pixels) >= m or window == max_window:\n",
        "          val = predict_pixel_value(similar_pixels, distances, input_patch, target_patch,stds,m,max_window,\n",
        "                                    input_patch[r,r], target_patch[r,r])\n",
        "          if val is not None:\n",
        "            filled[y-pad,x-pad] = val\n",
        "          break\n",
        "\n",
        "  return filled\n"
      ],
      "metadata": {
        "id": "zi_I5xmQCM1-",
        "outputId": "26fffaa1-7283-43f0-a4e1-e245da6554a9",
        "colab": {
          "base_uri": "https://localhost:8080/"
        }
      },
      "execution_count": 13,
      "outputs": [
        {
          "output_type": "stream",
          "name": "stderr",
          "text": [
            "<>:6: SyntaxWarning: 'tuple' object is not callable; perhaps you missed a comma?\n",
            "<>:6: SyntaxWarning: 'tuple' object is not callable; perhaps you missed a comma?\n",
            "/tmp/ipython-input-13-1622071220.py:6: SyntaxWarning: 'tuple' object is not callable; perhaps you missed a comma?\n",
            "  padded_input = np.pad(input_image,((pad,pad),(pad,pad)(0,0)),mode='reflect')\n"
          ]
        }
      ]
    },
    {
      "cell_type": "markdown",
      "source": [
        "Application"
      ],
      "metadata": {
        "id": "anWdxW5VGNJT"
      }
    },
    {
      "cell_type": "code",
      "source": [],
      "metadata": {
        "id": "XgdcRcJ-GP95"
      },
      "execution_count": null,
      "outputs": []
    }
  ]
}