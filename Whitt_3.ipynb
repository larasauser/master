{
  "nbformat": 4,
  "nbformat_minor": 0,
  "metadata": {
    "colab": {
      "provenance": [],
      "authorship_tag": "ABX9TyN7UMOM9MldIGHPvJOkWbjZ",
      "include_colab_link": true
    },
    "kernelspec": {
      "name": "python3",
      "display_name": "Python 3"
    },
    "language_info": {
      "name": "python"
    }
  },
  "cells": [
    {
      "cell_type": "markdown",
      "metadata": {
        "id": "view-in-github",
        "colab_type": "text"
      },
      "source": [
        "<a href=\"https://colab.research.google.com/github/larasauser/master/blob/main/Whitt_3.ipynb\" target=\"_parent\"><img src=\"https://colab.research.google.com/assets/colab-badge.svg\" alt=\"Open In Colab\"/></a>"
      ]
    },
    {
      "cell_type": "code",
      "execution_count": 1,
      "metadata": {
        "id": "aJ9j3ylCi17Q",
        "colab": {
          "base_uri": "https://localhost:8080/"
        },
        "outputId": "59c4ebd6-bbf4-40b2-8948-c344cc2a5dbf"
      },
      "outputs": [
        {
          "output_type": "stream",
          "name": "stdout",
          "text": [
            "Collecting rasterio\n",
            "  Downloading rasterio-1.4.3-cp312-cp312-manylinux_2_17_x86_64.manylinux2014_x86_64.whl.metadata (9.1 kB)\n",
            "Requirement already satisfied: tqdm in /usr/local/lib/python3.12/dist-packages (4.67.1)\n",
            "Requirement already satisfied: scikit-image in /usr/local/lib/python3.12/dist-packages (0.25.2)\n",
            "Requirement already satisfied: scikit-learn in /usr/local/lib/python3.12/dist-packages (1.6.1)\n",
            "Collecting affine (from rasterio)\n",
            "  Downloading affine-2.4.0-py3-none-any.whl.metadata (4.0 kB)\n",
            "Requirement already satisfied: attrs in /usr/local/lib/python3.12/dist-packages (from rasterio) (25.4.0)\n",
            "Requirement already satisfied: certifi in /usr/local/lib/python3.12/dist-packages (from rasterio) (2025.10.5)\n",
            "Requirement already satisfied: click>=4.0 in /usr/local/lib/python3.12/dist-packages (from rasterio) (8.3.0)\n",
            "Collecting cligj>=0.5 (from rasterio)\n",
            "  Downloading cligj-0.7.2-py3-none-any.whl.metadata (5.0 kB)\n",
            "Requirement already satisfied: numpy>=1.24 in /usr/local/lib/python3.12/dist-packages (from rasterio) (2.0.2)\n",
            "Collecting click-plugins (from rasterio)\n",
            "  Downloading click_plugins-1.1.1.2-py2.py3-none-any.whl.metadata (6.5 kB)\n",
            "Requirement already satisfied: pyparsing in /usr/local/lib/python3.12/dist-packages (from rasterio) (3.2.5)\n",
            "Requirement already satisfied: scipy>=1.11.4 in /usr/local/lib/python3.12/dist-packages (from scikit-image) (1.16.2)\n",
            "Requirement already satisfied: networkx>=3.0 in /usr/local/lib/python3.12/dist-packages (from scikit-image) (3.5)\n",
            "Requirement already satisfied: pillow>=10.1 in /usr/local/lib/python3.12/dist-packages (from scikit-image) (11.3.0)\n",
            "Requirement already satisfied: imageio!=2.35.0,>=2.33 in /usr/local/lib/python3.12/dist-packages (from scikit-image) (2.37.0)\n",
            "Requirement already satisfied: tifffile>=2022.8.12 in /usr/local/lib/python3.12/dist-packages (from scikit-image) (2025.10.16)\n",
            "Requirement already satisfied: packaging>=21 in /usr/local/lib/python3.12/dist-packages (from scikit-image) (25.0)\n",
            "Requirement already satisfied: lazy-loader>=0.4 in /usr/local/lib/python3.12/dist-packages (from scikit-image) (0.4)\n",
            "Requirement already satisfied: joblib>=1.2.0 in /usr/local/lib/python3.12/dist-packages (from scikit-learn) (1.5.2)\n",
            "Requirement already satisfied: threadpoolctl>=3.1.0 in /usr/local/lib/python3.12/dist-packages (from scikit-learn) (3.6.0)\n",
            "Downloading rasterio-1.4.3-cp312-cp312-manylinux_2_17_x86_64.manylinux2014_x86_64.whl (22.3 MB)\n",
            "\u001b[2K   \u001b[90m━━━━━━━━━━━━━━━━━━━━━━━━━━━━━━━━━━━━━━━━\u001b[0m \u001b[32m22.3/22.3 MB\u001b[0m \u001b[31m25.7 MB/s\u001b[0m eta \u001b[36m0:00:00\u001b[0m\n",
            "\u001b[?25hDownloading cligj-0.7.2-py3-none-any.whl (7.1 kB)\n",
            "Downloading affine-2.4.0-py3-none-any.whl (15 kB)\n",
            "Downloading click_plugins-1.1.1.2-py2.py3-none-any.whl (11 kB)\n",
            "Installing collected packages: cligj, click-plugins, affine, rasterio\n",
            "Successfully installed affine-2.4.0 click-plugins-1.1.1.2 cligj-0.7.2 rasterio-1.4.3\n",
            "Mounted at /content/drive\n"
          ]
        }
      ],
      "source": [
        "# === 0) Installer / importer libs et monter Drive ===\n",
        "!pip install rasterio tqdm scikit-image scikit-learn\n",
        "\n",
        "import os\n",
        "from glob import glob\n",
        "from datetime import datetime\n",
        "from tqdm import tqdm\n",
        "import numpy as np\n",
        "import rasterio\n",
        "from rasterio.warp import reproject, Resampling\n",
        "from scipy.linalg import lstsq\n",
        "import warnings\n",
        "warnings.filterwarnings('ignore')\n",
        "\n",
        "from google.colab import drive\n",
        "drive.mount('/content/drive')"
      ]
    },
    {
      "cell_type": "code",
      "source": [
        "# === 1) Paramètres principaux ===\n",
        "DRIVE_CLEAR_FOLDER = '/content/drive/MyDrive/Whitt/NDVI_grancy_Landsat8'\n",
        "DRIVE_MASKED_FOLDER = '/content/drive/MyDrive/Whitt/NDVI_grancy_Landsat8_hole'\n",
        "DRIVE_MODIS_FOLDER = '/content/drive/MyDrive/Whitt/NDVI_grancy_MODIS'\n",
        "OUTPUT_FOLDER = '/content/drive/MyDrive/egf_ws_outputs'\n",
        "os.makedirs(OUTPUT_FOLDER, exist_ok=True)\n",
        "\n",
        "WINDOW_METERS = 200.0\n",
        "KAPPA = 1.0  # Whittaker smoothing\n",
        "MIN_OVERLAP = 3"
      ],
      "metadata": {
        "id": "Wg57FwGmjBxi"
      },
      "execution_count": 2,
      "outputs": []
    },
    {
      "cell_type": "code",
      "source": [
        "# === 2) Fonctions helpers ===\n",
        "def parse_date_from_filename(fn):\n",
        "    import re\n",
        "    m = re.search(r'(\\d{4})-(\\d{2})-(\\d{2})', os.path.basename(fn))\n",
        "    if m:\n",
        "        return datetime.strptime(''.join(m.groups()), '%Y%m%d').date()\n",
        "    return datetime.fromtimestamp(os.path.getmtime(fn)).date()\n",
        "\n",
        "def read_singleband_tif(path):\n",
        "    with rasterio.open(path) as src:\n",
        "        arr = src.read(1).astype(np.float32)\n",
        "        meta = src.meta.copy()\n",
        "    nd = meta.get('nodata', None)\n",
        "    if nd is not None:\n",
        "        arr[arr==nd] = np.nan\n",
        "    return arr, meta\n",
        "\n",
        "def resample_to_target(src_arr, src_meta, target_meta):\n",
        "    dst_arr = np.full((target_meta['height'], target_meta['width']), np.nan, dtype=np.float32)\n",
        "    reproject(\n",
        "        source=src_arr,\n",
        "        destination=dst_arr,\n",
        "        src_transform=src_meta['transform'],\n",
        "        src_crs=src_meta['crs'],\n",
        "        dst_transform=target_meta['transform'],\n",
        "        dst_crs=target_meta['crs'],\n",
        "        resampling=Resampling.bilinear\n",
        "    )\n",
        "    return dst_arr"
      ],
      "metadata": {
        "id": "b5t6yPjijgaC"
      },
      "execution_count": 3,
      "outputs": []
    },
    {
      "cell_type": "code",
      "source": [
        "# === 3) Charger et aligner les images ===\n",
        "# trouver la plus petite image Landsat pour référence\n",
        "clear_files = sorted(glob(os.path.join(DRIVE_CLEAR_FOLDER, '*.tif')))\n",
        "masked_files = sorted(glob(os.path.join(DRIVE_MASKED_FOLDER, '*.tif')))\n",
        "modis_files = sorted(glob(os.path.join(DRIVE_MODIS_FOLDER, '*.tif')))\n",
        "\n",
        "sizes = []\n",
        "for f in clear_files:\n",
        "    arr, meta = read_singleband_tif(f)\n",
        "    sizes.append((arr.shape[0]*arr.shape[1], f, arr.shape, meta))\n",
        "sizes.sort()\n",
        "_, ref_file, ref_shape, ref_meta = sizes[0]\n",
        "H_ref, W_ref = ref_shape\n",
        "PIXEL_SIZE_M = abs(ref_meta['transform'][0])\n",
        "print(\"Reference Landsat:\", os.path.basename(ref_file), \"shape:\", ref_shape)\n",
        "\n",
        "# stacks Landsat\n",
        "landsat_clear_stack, landsat_masked_stack = [], []\n",
        "clear_dates, masked_dates = [], []\n",
        "\n",
        "for f in clear_files:\n",
        "    arr, meta = read_singleband_tif(f)\n",
        "    if arr.shape != ref_shape:\n",
        "        arr = resample_to_target(arr, meta, ref_meta)\n",
        "    landsat_clear_stack.append(arr)\n",
        "    clear_dates.append(parse_date_from_filename(f))\n",
        "\n",
        "for f in masked_files:\n",
        "    arr, meta = read_singleband_tif(f)\n",
        "    if arr.shape != ref_shape:\n",
        "        arr = resample_to_target(arr, meta, ref_meta)\n",
        "    landsat_masked_stack.append(arr)\n",
        "    masked_dates.append(parse_date_from_filename(f))\n",
        "\n",
        "landsat_clear_stack = np.stack(landsat_clear_stack, axis=0)\n",
        "landsat_masked_stack = np.stack(landsat_masked_stack, axis=0)\n",
        "T, H, W = landsat_clear_stack.shape\n",
        "print(\"Stacks shapes (clear/masked):\", landsat_clear_stack.shape, landsat_masked_stack.shape)\n",
        "\n",
        "# === MODIS local stack alignée sur dates Landsat ===\n",
        "modis_stack = np.full((T, H, W), np.nan, dtype=np.float32)\n",
        "modis_map = {parse_date_from_filename(f): f for f in modis_files}\n",
        "modis_dates_list = sorted(modis_map.keys())\n",
        "\n",
        "for ti, d in enumerate(clear_dates):  # ou common_dates\n",
        "    diffs = [(abs((md - d).days), md) for md in modis_dates_list]\n",
        "    nearest_md = min(diffs, key=lambda x: x[0])[1]\n",
        "    mod_file = modis_map[nearest_md]\n",
        "    arr, meta = read_singleband_tif(mod_file)\n",
        "    arr_resampled = resample_to_target(arr, meta, ref_meta)\n",
        "    modis_stack[ti] = arr_resampled\n",
        "\n",
        "print(\"MODIS stack aligned:\", modis_stack.shape)"
      ],
      "metadata": {
        "colab": {
          "base_uri": "https://localhost:8080/"
        },
        "id": "xJYLi4Idjhk-",
        "outputId": "f6a5ce70-2b7a-4ae7-b68a-b2cfb75e0bfc"
      },
      "execution_count": 7,
      "outputs": [
        {
          "output_type": "stream",
          "name": "stdout",
          "text": [
            "Reference Landsat: NDVI_2013-06-05.tif shape: (344, 319)\n",
            "Stacks shapes (clear/masked): (174, 344, 319) (6, 344, 319)\n",
            "MODIS stack aligned: (174, 344, 319)\n"
          ]
        }
      ]
    },
    {
      "cell_type": "code",
      "source": [
        "# === 4) Helpers EGF / Whittaker ===\n",
        "def pearson_r(a, b):\n",
        "    valid = ~np.isnan(a) & ~np.isnan(b)\n",
        "    if valid.sum()<2: return np.nan\n",
        "    x, y = a[valid], b[valid]\n",
        "    xm, ym = x.mean(), y.mean()\n",
        "    num = np.sum((x-xm)*(y-ym))\n",
        "    den = np.sqrt(np.sum((x-xm)**2)*np.sum((y-ym)**2))\n",
        "    if den==0: return np.nan\n",
        "    return num/den\n",
        "\n",
        "def compute_M_reference_pixel(i,j,modis_stack,sl_target_ts,radius_pix):\n",
        "    T,H,W = modis_stack.shape\n",
        "    i0, i1 = max(0,i-radius_pix), min(H,i+radius_pix+1)\n",
        "    j0, j1 = max(0,j-radius_pix), min(W,j+radius_pix+1)\n",
        "    coords = [(ii,jj) for ii in range(i0,i1) for jj in range(j0,j1)]\n",
        "    corrs, mseries = [], []\n",
        "    for ii,jj in coords:\n",
        "        ms = modis_stack[:,ii,jj]\n",
        "        r = pearson_r(ms, sl_target_ts)\n",
        "        corrs.append(r); mseries.append(ms)\n",
        "    corrs, mseries = np.array(corrs), np.array(mseries)\n",
        "    valid_idx = ~np.isnan(corrs)\n",
        "    if valid_idx.sum()==0: return None\n",
        "    R = corrs[valid_idx]; ms_valid = mseries[valid_idx]\n",
        "    R = (R-R.min())/(R.max()-R.min()) if R.max()!=R.min() else np.ones_like(R)\n",
        "    weights = R / R.sum()\n",
        "    Mref = np.zeros(T, dtype=float)\n",
        "    support = np.zeros(T, dtype=float)\n",
        "    for w, ms in zip(weights, ms_valid):\n",
        "        valid_t = ~np.isnan(ms)\n",
        "        Mref[valid_t] += w * ms[valid_t]\n",
        "        support[valid_t] += w\n",
        "    Mref[support==0]=np.nan\n",
        "    return Mref\n",
        "\n",
        "def estimate_linear_transfer(M_ref, SL_ts):\n",
        "    valid = ~np.isnan(M_ref) & ~np.isnan(SL_ts)\n",
        "    if valid.sum()<2: return None\n",
        "    A = np.vstack([M_ref[valid], np.ones(valid.sum())]).T\n",
        "    y = SL_ts[valid]\n",
        "    sol, *_ = lstsq(A, y)\n",
        "    return sol[0], sol[1]\n",
        "\n",
        "def whittaker_smoother(y,kappa=1.0):\n",
        "    n = y.shape[0]; mask = ~np.isnan(y)\n",
        "    if mask.sum()==0: return np.full_like(y,np.nan)\n",
        "    out = np.full_like(y,np.nan,dtype=float)\n",
        "    idx = np.where(mask)[0]\n",
        "    runs = np.split(idx, np.where(np.diff(idx)!=1)[0]+1)\n",
        "    for run in runs:\n",
        "        s,e = run[0], run[-1]+1\n",
        "        seg = y[s:e].astype(float)\n",
        "        m = len(seg)\n",
        "        if m<=2: out[s:e]=seg; continue\n",
        "        D = np.zeros((m-2,m))\n",
        "        for r in range(m-2): D[r,r]=1; D[r,r+1]=-2; D[r,r+2]=1\n",
        "        A_mat = np.eye(m)+kappa*(D.T@D)\n",
        "        out[s:e] = np.linalg.solve(A_mat, seg)\n",
        "    return out"
      ],
      "metadata": {
        "id": "Oh70eJzEjrmE"
      },
      "execution_count": 8,
      "outputs": []
    },
    {
      "cell_type": "code",
      "source": [
        "# === 5) EGF computation ===\n",
        "radius_pix = int(round((WINDOW_METERS/2.0)/PIXEL_SIZE_M))\n",
        "A = np.full((H,W),np.nan); A0 = np.full((H,W),np.nan)\n",
        "Mref_stack = np.full((T,H,W),np.nan)\n",
        "\n",
        "print(\"Estimating M_reference and linear transfer...\")\n",
        "for i in tqdm(range(H)):\n",
        "    for j in range(W):\n",
        "        sl_target_ts = landsat_clear_stack[:,i,j]\n",
        "        Mref = compute_M_reference_pixel(i,j,modis_stack,sl_target_ts,radius_pix)\n",
        "        if Mref is None:\n",
        "            i0,i1 = max(0,i-radius_pix), min(H,i+radius_pix+1)\n",
        "            j0,j1 = max(0,j-radius_pix), min(W,j+radius_pix+1)\n",
        "            block = modis_stack[:,i0:i1,j0:j1]\n",
        "            Mref = np.nanmean(block.reshape(T,-1),axis=1)\n",
        "        Mref_stack[:,i,j] = Mref\n",
        "        est = estimate_linear_transfer(Mref, sl_target_ts)\n",
        "        if est is None: continue\n",
        "        A[i,j], A0[i,j] = est\n",
        "\n",
        "SLM = np.full((T,H,W),np.nan)\n",
        "for i in range(H):\n",
        "    for j in range(W):\n",
        "        if np.isnan(A[i,j]) or np.isnan(A0[i,j]): continue\n",
        "        SLM[:,i,j] = Mref_stack[:,i,j]*A[i,j]+A0[i,j]"
      ],
      "metadata": {
        "colab": {
          "base_uri": "https://localhost:8080/"
        },
        "id": "eEpRKjSvjsYZ",
        "outputId": "4da632b1-050d-4d92-a3af-60a36151643c"
      },
      "execution_count": 9,
      "outputs": [
        {
          "output_type": "stream",
          "name": "stdout",
          "text": [
            "Estimating M_reference and linear transfer...\n"
          ]
        },
        {
          "output_type": "stream",
          "name": "stderr",
          "text": [
            "100%|██████████| 344/344 [07:04<00:00,  1.24s/it]\n"
          ]
        }
      ]
    },
    {
      "cell_type": "code",
      "source": [
        "# === 6) Combine & Whittaker smoothing ===\n",
        "integrated = np.where(~np.isnan(landsat_clear_stack), landsat_clear_stack, SLM)\n",
        "smoothed = np.full_like(integrated,np.nan,dtype=float)\n",
        "print(\"Applying Whittaker smoothing per pixel...\")\n",
        "for i in tqdm(range(H)):\n",
        "    for j in range(W):\n",
        "        smoothed[:,i,j] = whittaker_smoother(integrated[:,i,j],kappa=KAPPA)\n"
      ],
      "metadata": {
        "colab": {
          "base_uri": "https://localhost:8080/"
        },
        "id": "gNtygkA_jvDe",
        "outputId": "d5006f53-43ab-4848-d47c-70a7293918dd"
      },
      "execution_count": 10,
      "outputs": [
        {
          "output_type": "stream",
          "name": "stdout",
          "text": [
            "Applying Whittaker smoothing per pixel...\n"
          ]
        },
        {
          "output_type": "stream",
          "name": "stderr",
          "text": [
            "100%|██████████| 344/344 [03:32<00:00,  1.62it/s]\n"
          ]
        }
      ]
    },
    {
      "cell_type": "code",
      "source": [
        "# === 7) Save reconstructed images & optional metrics ===\n",
        "def write_tif(path,arr,meta_template):\n",
        "    meta = meta_template.copy(); meta.update({'count':1,'dtype':'float32','nodata':-9999})\n",
        "    out = np.nan_to_num(arr,nan=-9999).astype(np.float32)\n",
        "    with rasterio.open(path,'w',**meta) as dst: dst.write(out,1)\n",
        "\n",
        "target_indices = [ti for ti,d in enumerate(masked_dates)]\n",
        "for t in target_indices:\n",
        "    outpath = os.path.join(OUTPUT_FOLDER,f'recon_{masked_dates[t]}.tif')\n",
        "    write_tif(outpath,smoothed[t],ref_meta)\n",
        "    print(\"Saved\",outpath)\n",
        "\n",
        "print(\"Finished. Reconstructions available in:\", OUTPUT_FOLDER)"
      ],
      "metadata": {
        "id": "DI2qjKzijwkZ"
      },
      "execution_count": null,
      "outputs": []
    },
    {
      "cell_type": "code",
      "source": [
        "import matplotlib.pyplot as plt\n",
        "import numpy as np\n",
        "\n",
        "# Choisir les indices des images que tu veux visualiser (par exemple les 6 reconstruites)\n",
        "target_indices = [ti for ti, d in enumerate(dates) if d in masked_map]  # ou tes indices 6 images\n",
        "\n",
        "# Fonction pour afficher une image NDVI\n",
        "def show_ndvi(arr, title=\"\", vmin=-0.2, vmax=1.0, cmap=\"RdYlGn\"):\n",
        "    plt.imshow(arr, cmap=cmap, vmin=vmin, vmax=vmax)\n",
        "    plt.colorbar(label=\"NDVI\")\n",
        "    plt.title(title)\n",
        "    plt.axis('off')\n",
        "\n",
        "# Affichage côte à côte\n",
        "n = len(target_indices)\n",
        "plt.figure(figsize=(5*n, 5))\n",
        "for k, ti in enumerate(target_indices):\n",
        "    plt.subplot(1, n, k+1)\n",
        "    arr = smoothed[ti]  # ou integrated[ti] si tu veux voir avant Whittaker\n",
        "    show_ndvi(arr, title=f\"{dates[ti]}\")\n",
        "plt.tight_layout()\n",
        "plt.show()\n"
      ],
      "metadata": {
        "colab": {
          "base_uri": "https://localhost:8080/",
          "height": 257
        },
        "id": "s1pU7Z8loUzY",
        "outputId": "d3310ea6-1700-4eab-dc1e-e321455491e0"
      },
      "execution_count": 13,
      "outputs": [
        {
          "output_type": "error",
          "ename": "NameError",
          "evalue": "name 'dates' is not defined",
          "traceback": [
            "\u001b[0;31m---------------------------------------------------------------------------\u001b[0m",
            "\u001b[0;31mNameError\u001b[0m                                 Traceback (most recent call last)",
            "\u001b[0;32m/tmp/ipython-input-819311847.py\u001b[0m in \u001b[0;36m<cell line: 0>\u001b[0;34m()\u001b[0m\n\u001b[1;32m      3\u001b[0m \u001b[0;34m\u001b[0m\u001b[0m\n\u001b[1;32m      4\u001b[0m \u001b[0;31m# Choisir les indices des images que tu veux visualiser (par exemple les 6 reconstruites)\u001b[0m\u001b[0;34m\u001b[0m\u001b[0;34m\u001b[0m\u001b[0m\n\u001b[0;32m----> 5\u001b[0;31m \u001b[0mtarget_indices\u001b[0m \u001b[0;34m=\u001b[0m \u001b[0;34m[\u001b[0m\u001b[0mti\u001b[0m \u001b[0;32mfor\u001b[0m \u001b[0mti\u001b[0m\u001b[0;34m,\u001b[0m \u001b[0md\u001b[0m \u001b[0;32min\u001b[0m \u001b[0menumerate\u001b[0m\u001b[0;34m(\u001b[0m\u001b[0mdates\u001b[0m\u001b[0;34m)\u001b[0m \u001b[0;32mif\u001b[0m \u001b[0md\u001b[0m \u001b[0;32min\u001b[0m \u001b[0mmasked_map\u001b[0m\u001b[0;34m]\u001b[0m  \u001b[0;31m# ou tes indices 6 images\u001b[0m\u001b[0;34m\u001b[0m\u001b[0;34m\u001b[0m\u001b[0m\n\u001b[0m\u001b[1;32m      6\u001b[0m \u001b[0;34m\u001b[0m\u001b[0m\n\u001b[1;32m      7\u001b[0m \u001b[0;31m# Fonction pour afficher une image NDVI\u001b[0m\u001b[0;34m\u001b[0m\u001b[0;34m\u001b[0m\u001b[0m\n",
            "\u001b[0;31mNameError\u001b[0m: name 'dates' is not defined"
          ]
        }
      ]
    }
  ]
}