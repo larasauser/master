{
  "nbformat": 4,
  "nbformat_minor": 0,
  "metadata": {
    "colab": {
      "provenance": [],
      "authorship_tag": "ABX9TyPfjRbVMOS5VOtTUP7sYPYs",
      "include_colab_link": true
    },
    "kernelspec": {
      "name": "python3",
      "display_name": "Python 3"
    },
    "language_info": {
      "name": "python"
    }
  },
  "cells": [
    {
      "cell_type": "markdown",
      "metadata": {
        "id": "view-in-github",
        "colab_type": "text"
      },
      "source": [
        "<a href=\"https://colab.research.google.com/github/larasauser/master/blob/main/baseline.ipynb\" target=\"_parent\"><img src=\"https://colab.research.google.com/assets/colab-badge.svg\" alt=\"Open In Colab\"/></a>"
      ]
    },
    {
      "cell_type": "markdown",
      "source": [
        "Baseline method"
      ],
      "metadata": {
        "id": "cTubRGKnyMGi"
      }
    },
    {
      "cell_type": "code",
      "execution_count": 16,
      "metadata": {
        "id": "s1pRTsioyKnS",
        "outputId": "508a9bab-29cc-4eb7-d564-b532081cd6ce",
        "colab": {
          "base_uri": "https://localhost:8080/"
        }
      },
      "outputs": [
        {
          "output_type": "stream",
          "name": "stdout",
          "text": [
            "Requirement already satisfied: rasterio in /usr/local/lib/python3.12/dist-packages (1.4.3)\n",
            "Requirement already satisfied: affine in /usr/local/lib/python3.12/dist-packages (from rasterio) (2.4.0)\n",
            "Requirement already satisfied: attrs in /usr/local/lib/python3.12/dist-packages (from rasterio) (25.3.0)\n",
            "Requirement already satisfied: certifi in /usr/local/lib/python3.12/dist-packages (from rasterio) (2025.8.3)\n",
            "Requirement already satisfied: click>=4.0 in /usr/local/lib/python3.12/dist-packages (from rasterio) (8.2.1)\n",
            "Requirement already satisfied: cligj>=0.5 in /usr/local/lib/python3.12/dist-packages (from rasterio) (0.7.2)\n",
            "Requirement already satisfied: numpy>=1.24 in /usr/local/lib/python3.12/dist-packages (from rasterio) (2.0.2)\n",
            "Requirement already satisfied: click-plugins in /usr/local/lib/python3.12/dist-packages (from rasterio) (1.1.1.2)\n",
            "Requirement already satisfied: pyparsing in /usr/local/lib/python3.12/dist-packages (from rasterio) (3.2.3)\n"
          ]
        }
      ],
      "source": [
        "!pip install rasterio"
      ]
    },
    {
      "cell_type": "code",
      "source": [
        "import os\n",
        "import re\n",
        "import numpy as np\n",
        "import rasterio\n",
        "from rasterio.warp import reproject, Resampling\n",
        "from datetime import datetime"
      ],
      "metadata": {
        "id": "piPGwPevSq4j"
      },
      "execution_count": 17,
      "outputs": []
    },
    {
      "cell_type": "code",
      "source": [
        "from google.colab import drive\n",
        "drive.mount('/content/drive')"
      ],
      "metadata": {
        "id": "KvDoaNbKSwvS"
      },
      "execution_count": null,
      "outputs": []
    },
    {
      "cell_type": "code",
      "source": [
        "path_with_holes = \"/content/drive/MyDrive/NDVI_grancy_Landsat8_10/imputed/holes_real\"\n",
        "path_full = \"/content/drive/MyDrive/NDVI_grancy_Landsat8_10/imputed\"\n",
        "path_out = \"/content/drive/MyDrive/NDVI_grancy_Landsat8_10/imputed/holes_real/filled_baseline\"\n",
        "os.makedirs(path_out, exist_ok=True)"
      ],
      "metadata": {
        "id": "y6Kfi-r8SytE"
      },
      "execution_count": null,
      "outputs": []
    },
    {
      "cell_type": "code",
      "source": [
        "def extract_date(filename):\n",
        "    match = re.search(r\"(\\d{4}-\\d{2}-\\d{2})\", filename)\n",
        "    if match:\n",
        "        return datetime.strptime(match.group(1), \"%Y-%m-%d\")\n",
        "    else:\n",
        "        raise ValueError(f\"Impossible to extract : {filename}\")"
      ],
      "metadata": {
        "id": "zhyHIgEsS0vA"
      },
      "execution_count": null,
      "outputs": []
    },
    {
      "cell_type": "code",
      "source": [
        "files_with_holes = sorted([f for f in os.listdir(path_with_holes) if f.endswith(\".tif\")])\n",
        "files_full = sorted([f for f in os.listdir(path_full) if f.endswith(\".tif\")])\n",
        "dates_full = {f: extract_date(f) for f in files_full}"
      ],
      "metadata": {
        "id": "wgwL66l4S7FT"
      },
      "execution_count": null,
      "outputs": []
    },
    {
      "cell_type": "code",
      "source": [
        "def find_closest_image(target_date, exclude_date):\n",
        "    candidates = [(f, d) for f, d in dates_full.items() if d != exclude_date]\n",
        "    closest = min(candidates, key=lambda x: abs(x[1] - target_date))\n",
        "    return closest[0]"
      ],
      "metadata": {
        "id": "9DAor6ZcS9Q2"
      },
      "execution_count": null,
      "outputs": []
    },
    {
      "cell_type": "code",
      "source": [
        "# Reconstruction\n",
        "for f in files_with_holes:\n",
        "    date_f = extract_date(f)\n",
        "\n",
        "    # Find closest image in time\n",
        "    closest_file = find_closest_image(date_f, date_f)\n",
        "\n",
        "    # Load image with hole\n",
        "    with rasterio.open(os.path.join(path_with_holes, f)) as src_hole:\n",
        "        img_hole = src_hole.read(1).astype(\"float32\")\n",
        "        profile = src_hole.profile\n",
        "        target_transform = src_hole.transform\n",
        "        target_crs = src_hole.crs\n",
        "        target_shape = src_hole.shape\n",
        "\n",
        "    # Load image full\n",
        "    with rasterio.open(os.path.join(path_full, closest_file)) as src_full:\n",
        "        cand_img = src_full.read(1).astype(\"float32\")\n",
        "        cand_transform = src_full.transform\n",
        "        cand_crs = src_full.crs\n",
        "\n",
        "    # Reprojection + recadrage pour matcher l'image trouée\n",
        "    recropped = np.empty(target_shape, dtype=\"float32\")\n",
        "    reproject(\n",
        "        source=cand_img,\n",
        "        destination=recropped,\n",
        "        src_transform=cand_transform,\n",
        "        src_crs=cand_crs,\n",
        "        dst_transform=target_transform,\n",
        "        dst_crs=target_crs,\n",
        "        resampling=Resampling.bilinear\n",
        "    )\n",
        "\n",
        "    # Construire masque des trous : NaN ou -9999\n",
        "    mask = np.isnan(img_hole) | (img_hole == -9999)\n",
        "\n",
        "    # Remplir les trous avec l'image reprojetée\n",
        "    img_out = img_hole.copy()\n",
        "    img_out[mask] = recropped[mask]\n",
        "\n",
        "    # Préparer profil de sortie\n",
        "    profile.update(dtype=\"float32\", nodata=-9999)\n",
        "\n",
        "    # Remplacer NaN par -9999 pour cohérence\n",
        "    img_out[np.isnan(img_out)] = -9999\n",
        "\n",
        "    # Sauvegarde\n",
        "    out_path = os.path.join(path_out, f.replace(\".tif\", \"_baseline.tif\"))\n",
        "    with rasterio.open(out_path, \"w\", **profile) as dst:\n",
        "        dst.write(img_out, 1)\n",
        "\n",
        "    print(f\"{f} rempli avec {closest_file} → {out_path}\")"
      ],
      "metadata": {
        "id": "b2n14DvvTHHX"
      },
      "execution_count": null,
      "outputs": []
    },
    {
      "cell_type": "markdown",
      "source": [
        "Visualisation + error calculation"
      ],
      "metadata": {
        "id": "AlTy8tYaTJIO"
      }
    },
    {
      "cell_type": "code",
      "source": [],
      "metadata": {
        "id": "VgGVT6WRTIa9"
      },
      "execution_count": null,
      "outputs": []
    }
  ]
}